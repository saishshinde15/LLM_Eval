{
  "nbformat": 4,
  "nbformat_minor": 0,
  "metadata": {
    "colab": {
      "provenance": []
    },
    "kernelspec": {
      "name": "python3",
      "display_name": "Python 3"
    },
    "language_info": {
      "name": "python"
    }
  },
  "cells": [
    {
      "cell_type": "code",
      "execution_count": null,
      "metadata": {
        "colab": {
          "base_uri": "https://localhost:8080/"
        },
        "id": "3kG-ndzS4dHJ",
        "outputId": "488cdd50-01e1-4834-d825-931e236602e7"
      },
      "outputs": [
        {
          "output_type": "stream",
          "name": "stdout",
          "text": [
            "Requirement already satisfied: langchain in /usr/local/lib/python3.11/dist-packages (0.3.22)\n",
            "Collecting langchain-community\n",
            "  Downloading langchain_community-0.3.21-py3-none-any.whl.metadata (2.4 kB)\n",
            "Requirement already satisfied: langchain-core<1.0.0,>=0.3.49 in /usr/local/lib/python3.11/dist-packages (from langchain) (0.3.50)\n",
            "Requirement already satisfied: langchain-text-splitters<1.0.0,>=0.3.7 in /usr/local/lib/python3.11/dist-packages (from langchain) (0.3.7)\n",
            "Requirement already satisfied: langsmith<0.4,>=0.1.17 in /usr/local/lib/python3.11/dist-packages (from langchain) (0.3.23)\n",
            "Requirement already satisfied: pydantic<3.0.0,>=2.7.4 in /usr/local/lib/python3.11/dist-packages (from langchain) (2.11.2)\n",
            "Requirement already satisfied: SQLAlchemy<3,>=1.4 in /usr/local/lib/python3.11/dist-packages (from langchain) (2.0.40)\n",
            "Requirement already satisfied: requests<3,>=2 in /usr/local/lib/python3.11/dist-packages (from langchain) (2.32.3)\n",
            "Requirement already satisfied: PyYAML>=5.3 in /usr/local/lib/python3.11/dist-packages (from langchain) (6.0.2)\n",
            "Collecting langchain-core<1.0.0,>=0.3.49 (from langchain)\n",
            "  Downloading langchain_core-0.3.51-py3-none-any.whl.metadata (5.9 kB)\n",
            "Collecting langchain\n",
            "  Downloading langchain-0.3.23-py3-none-any.whl.metadata (7.8 kB)\n",
            "Requirement already satisfied: aiohttp<4.0.0,>=3.8.3 in /usr/local/lib/python3.11/dist-packages (from langchain-community) (3.11.15)\n",
            "Requirement already satisfied: tenacity!=8.4.0,<10,>=8.1.0 in /usr/local/lib/python3.11/dist-packages (from langchain-community) (9.1.2)\n",
            "Collecting dataclasses-json<0.7,>=0.5.7 (from langchain-community)\n",
            "  Downloading dataclasses_json-0.6.7-py3-none-any.whl.metadata (25 kB)\n",
            "Collecting pydantic-settings<3.0.0,>=2.4.0 (from langchain-community)\n",
            "  Downloading pydantic_settings-2.8.1-py3-none-any.whl.metadata (3.5 kB)\n",
            "Collecting httpx-sse<1.0.0,>=0.4.0 (from langchain-community)\n",
            "  Downloading httpx_sse-0.4.0-py3-none-any.whl.metadata (9.0 kB)\n",
            "Requirement already satisfied: numpy<3,>=1.26.2 in /usr/local/lib/python3.11/dist-packages (from langchain-community) (2.0.2)\n",
            "Collecting langchain-text-splitters<1.0.0,>=0.3.8 (from langchain)\n",
            "  Downloading langchain_text_splitters-0.3.8-py3-none-any.whl.metadata (1.9 kB)\n",
            "Requirement already satisfied: aiohappyeyeballs>=2.3.0 in /usr/local/lib/python3.11/dist-packages (from aiohttp<4.0.0,>=3.8.3->langchain-community) (2.6.1)\n",
            "Requirement already satisfied: aiosignal>=1.1.2 in /usr/local/lib/python3.11/dist-packages (from aiohttp<4.0.0,>=3.8.3->langchain-community) (1.3.2)\n",
            "Requirement already satisfied: attrs>=17.3.0 in /usr/local/lib/python3.11/dist-packages (from aiohttp<4.0.0,>=3.8.3->langchain-community) (25.3.0)\n",
            "Requirement already satisfied: frozenlist>=1.1.1 in /usr/local/lib/python3.11/dist-packages (from aiohttp<4.0.0,>=3.8.3->langchain-community) (1.5.0)\n",
            "Requirement already satisfied: multidict<7.0,>=4.5 in /usr/local/lib/python3.11/dist-packages (from aiohttp<4.0.0,>=3.8.3->langchain-community) (6.2.0)\n",
            "Requirement already satisfied: propcache>=0.2.0 in /usr/local/lib/python3.11/dist-packages (from aiohttp<4.0.0,>=3.8.3->langchain-community) (0.3.1)\n",
            "Requirement already satisfied: yarl<2.0,>=1.17.0 in /usr/local/lib/python3.11/dist-packages (from aiohttp<4.0.0,>=3.8.3->langchain-community) (1.18.3)\n",
            "Collecting marshmallow<4.0.0,>=3.18.0 (from dataclasses-json<0.7,>=0.5.7->langchain-community)\n",
            "  Downloading marshmallow-3.26.1-py3-none-any.whl.metadata (7.3 kB)\n",
            "Collecting typing-inspect<1,>=0.4.0 (from dataclasses-json<0.7,>=0.5.7->langchain-community)\n",
            "  Downloading typing_inspect-0.9.0-py3-none-any.whl.metadata (1.5 kB)\n",
            "Requirement already satisfied: jsonpatch<2.0,>=1.33 in /usr/local/lib/python3.11/dist-packages (from langchain-core<1.0.0,>=0.3.49->langchain) (1.33)\n",
            "Requirement already satisfied: packaging<25,>=23.2 in /usr/local/lib/python3.11/dist-packages (from langchain-core<1.0.0,>=0.3.49->langchain) (24.2)\n",
            "Requirement already satisfied: typing-extensions>=4.7 in /usr/local/lib/python3.11/dist-packages (from langchain-core<1.0.0,>=0.3.49->langchain) (4.13.1)\n",
            "Requirement already satisfied: httpx<1,>=0.23.0 in /usr/local/lib/python3.11/dist-packages (from langsmith<0.4,>=0.1.17->langchain) (0.28.1)\n",
            "Requirement already satisfied: orjson<4.0.0,>=3.9.14 in /usr/local/lib/python3.11/dist-packages (from langsmith<0.4,>=0.1.17->langchain) (3.10.16)\n",
            "Requirement already satisfied: requests-toolbelt<2.0.0,>=1.0.0 in /usr/local/lib/python3.11/dist-packages (from langsmith<0.4,>=0.1.17->langchain) (1.0.0)\n",
            "Requirement already satisfied: zstandard<0.24.0,>=0.23.0 in /usr/local/lib/python3.11/dist-packages (from langsmith<0.4,>=0.1.17->langchain) (0.23.0)\n",
            "Requirement already satisfied: annotated-types>=0.6.0 in /usr/local/lib/python3.11/dist-packages (from pydantic<3.0.0,>=2.7.4->langchain) (0.7.0)\n",
            "Requirement already satisfied: pydantic-core==2.33.1 in /usr/local/lib/python3.11/dist-packages (from pydantic<3.0.0,>=2.7.4->langchain) (2.33.1)\n",
            "Requirement already satisfied: typing-inspection>=0.4.0 in /usr/local/lib/python3.11/dist-packages (from pydantic<3.0.0,>=2.7.4->langchain) (0.4.0)\n",
            "Collecting python-dotenv>=0.21.0 (from pydantic-settings<3.0.0,>=2.4.0->langchain-community)\n",
            "  Downloading python_dotenv-1.1.0-py3-none-any.whl.metadata (24 kB)\n",
            "Requirement already satisfied: charset-normalizer<4,>=2 in /usr/local/lib/python3.11/dist-packages (from requests<3,>=2->langchain) (3.4.1)\n",
            "Requirement already satisfied: idna<4,>=2.5 in /usr/local/lib/python3.11/dist-packages (from requests<3,>=2->langchain) (3.10)\n",
            "Requirement already satisfied: urllib3<3,>=1.21.1 in /usr/local/lib/python3.11/dist-packages (from requests<3,>=2->langchain) (2.3.0)\n",
            "Requirement already satisfied: certifi>=2017.4.17 in /usr/local/lib/python3.11/dist-packages (from requests<3,>=2->langchain) (2025.1.31)\n",
            "Requirement already satisfied: greenlet>=1 in /usr/local/lib/python3.11/dist-packages (from SQLAlchemy<3,>=1.4->langchain) (3.1.1)\n",
            "Requirement already satisfied: anyio in /usr/local/lib/python3.11/dist-packages (from httpx<1,>=0.23.0->langsmith<0.4,>=0.1.17->langchain) (4.9.0)\n",
            "Requirement already satisfied: httpcore==1.* in /usr/local/lib/python3.11/dist-packages (from httpx<1,>=0.23.0->langsmith<0.4,>=0.1.17->langchain) (1.0.7)\n",
            "Requirement already satisfied: h11<0.15,>=0.13 in /usr/local/lib/python3.11/dist-packages (from httpcore==1.*->httpx<1,>=0.23.0->langsmith<0.4,>=0.1.17->langchain) (0.14.0)\n",
            "Requirement already satisfied: jsonpointer>=1.9 in /usr/local/lib/python3.11/dist-packages (from jsonpatch<2.0,>=1.33->langchain-core<1.0.0,>=0.3.49->langchain) (3.0.0)\n",
            "Collecting mypy-extensions>=0.3.0 (from typing-inspect<1,>=0.4.0->dataclasses-json<0.7,>=0.5.7->langchain-community)\n",
            "  Downloading mypy_extensions-1.0.0-py3-none-any.whl.metadata (1.1 kB)\n",
            "Requirement already satisfied: sniffio>=1.1 in /usr/local/lib/python3.11/dist-packages (from anyio->httpx<1,>=0.23.0->langsmith<0.4,>=0.1.17->langchain) (1.3.1)\n",
            "Downloading langchain_community-0.3.21-py3-none-any.whl (2.5 MB)\n",
            "\u001b[2K   \u001b[90m━━━━━━━━━━━━━━━━━━━━━━━━━━━━━━━━━━━━━━━━\u001b[0m \u001b[32m2.5/2.5 MB\u001b[0m \u001b[31m18.0 MB/s\u001b[0m eta \u001b[36m0:00:00\u001b[0m\n",
            "\u001b[?25hDownloading langchain-0.3.23-py3-none-any.whl (1.0 MB)\n",
            "\u001b[2K   \u001b[90m━━━━━━━━━━━━━━━━━━━━━━━━━━━━━━━━━━━━━━━━\u001b[0m \u001b[32m1.0/1.0 MB\u001b[0m \u001b[31m19.7 MB/s\u001b[0m eta \u001b[36m0:00:00\u001b[0m\n",
            "\u001b[?25hDownloading dataclasses_json-0.6.7-py3-none-any.whl (28 kB)\n",
            "Downloading httpx_sse-0.4.0-py3-none-any.whl (7.8 kB)\n",
            "Downloading langchain_core-0.3.51-py3-none-any.whl (423 kB)\n",
            "\u001b[2K   \u001b[90m━━━━━━━━━━━━━━━━━━━━━━━━━━━━━━━━━━━━━━━━\u001b[0m \u001b[32m423.3/423.3 kB\u001b[0m \u001b[31m13.2 MB/s\u001b[0m eta \u001b[36m0:00:00\u001b[0m\n",
            "\u001b[?25hDownloading langchain_text_splitters-0.3.8-py3-none-any.whl (32 kB)\n",
            "Downloading pydantic_settings-2.8.1-py3-none-any.whl (30 kB)\n",
            "Downloading marshmallow-3.26.1-py3-none-any.whl (50 kB)\n",
            "\u001b[2K   \u001b[90m━━━━━━━━━━━━━━━━━━━━━━━━━━━━━━━━━━━━━━━━\u001b[0m \u001b[32m50.9/50.9 kB\u001b[0m \u001b[31m3.8 MB/s\u001b[0m eta \u001b[36m0:00:00\u001b[0m\n",
            "\u001b[?25hDownloading python_dotenv-1.1.0-py3-none-any.whl (20 kB)\n",
            "Downloading typing_inspect-0.9.0-py3-none-any.whl (8.8 kB)\n",
            "Downloading mypy_extensions-1.0.0-py3-none-any.whl (4.7 kB)\n",
            "Installing collected packages: python-dotenv, mypy-extensions, marshmallow, httpx-sse, typing-inspect, pydantic-settings, dataclasses-json, langchain-core, langchain-text-splitters, langchain, langchain-community\n",
            "  Attempting uninstall: langchain-core\n",
            "    Found existing installation: langchain-core 0.3.50\n",
            "    Uninstalling langchain-core-0.3.50:\n",
            "      Successfully uninstalled langchain-core-0.3.50\n",
            "  Attempting uninstall: langchain-text-splitters\n",
            "    Found existing installation: langchain-text-splitters 0.3.7\n",
            "    Uninstalling langchain-text-splitters-0.3.7:\n",
            "      Successfully uninstalled langchain-text-splitters-0.3.7\n",
            "  Attempting uninstall: langchain\n",
            "    Found existing installation: langchain 0.3.22\n",
            "    Uninstalling langchain-0.3.22:\n",
            "      Successfully uninstalled langchain-0.3.22\n",
            "Successfully installed dataclasses-json-0.6.7 httpx-sse-0.4.0 langchain-0.3.23 langchain-community-0.3.21 langchain-core-0.3.51 langchain-text-splitters-0.3.8 marshmallow-3.26.1 mypy-extensions-1.0.0 pydantic-settings-2.8.1 python-dotenv-1.1.0 typing-inspect-0.9.0\n"
          ]
        }
      ],
      "source": [
        "pip install langchain langchain-community"
      ]
    },
    {
      "cell_type": "code",
      "source": [
        "%pip install -qU langchain_community pypdf"
      ],
      "metadata": {
        "colab": {
          "base_uri": "https://localhost:8080/"
        },
        "id": "-HUPcxlL4pTh",
        "outputId": "1c3f17f7-8723-46e2-f6c0-05fecd540381"
      },
      "execution_count": null,
      "outputs": [
        {
          "output_type": "stream",
          "name": "stdout",
          "text": [
            "\u001b[?25l   \u001b[90m━━━━━━━━━━━━━━━━━━━━━━━━━━━━━━━━━━━━━━━━\u001b[0m \u001b[32m0.0/302.3 kB\u001b[0m \u001b[31m?\u001b[0m eta \u001b[36m-:--:--\u001b[0m\r\u001b[2K   \u001b[91m━━━━━━━━━━\u001b[0m\u001b[91m╸\u001b[0m\u001b[90m━━━━━━━━━━━━━━━━━━━━━━━━━━━━━\u001b[0m \u001b[32m81.9/302.3 kB\u001b[0m \u001b[31m2.5 MB/s\u001b[0m eta \u001b[36m0:00:01\u001b[0m\r\u001b[2K   \u001b[91m━━━━━━━━━━━━━━━━━━━━━━━━━━━━━━━━━━━━━━━\u001b[0m\u001b[90m╺\u001b[0m \u001b[32m297.0/302.3 kB\u001b[0m \u001b[31m4.5 MB/s\u001b[0m eta \u001b[36m0:00:01\u001b[0m\r\u001b[2K   \u001b[90m━━━━━━━━━━━━━━━━━━━━━━━━━━━━━━━━━━━━━━━━\u001b[0m \u001b[32m302.3/302.3 kB\u001b[0m \u001b[31m3.7 MB/s\u001b[0m eta \u001b[36m0:00:00\u001b[0m\n",
            "\u001b[?25h"
          ]
        }
      ]
    },
    {
      "cell_type": "code",
      "source": [
        "%pip install -qU langchain-text-splitters"
      ],
      "metadata": {
        "id": "4xp3YfiD448t"
      },
      "execution_count": null,
      "outputs": []
    },
    {
      "cell_type": "code",
      "source": [
        "!pip install google-generativeai==0.8.4 google-ai-generativelanguage==0.6.15"
      ],
      "metadata": {
        "colab": {
          "base_uri": "https://localhost:8080/"
        },
        "id": "TBFNL6I1471j",
        "outputId": "dcf40f69-a6db-4303-9c3e-9e92b96fb1e6"
      },
      "execution_count": null,
      "outputs": [
        {
          "output_type": "stream",
          "name": "stdout",
          "text": [
            "Requirement already satisfied: google-generativeai==0.8.4 in /usr/local/lib/python3.11/dist-packages (0.8.4)\n",
            "Requirement already satisfied: google-ai-generativelanguage==0.6.15 in /usr/local/lib/python3.11/dist-packages (0.6.15)\n",
            "Requirement already satisfied: google-api-core in /usr/local/lib/python3.11/dist-packages (from google-generativeai==0.8.4) (2.24.2)\n",
            "Requirement already satisfied: google-api-python-client in /usr/local/lib/python3.11/dist-packages (from google-generativeai==0.8.4) (2.164.0)\n",
            "Requirement already satisfied: google-auth>=2.15.0 in /usr/local/lib/python3.11/dist-packages (from google-generativeai==0.8.4) (2.38.0)\n",
            "Requirement already satisfied: protobuf in /usr/local/lib/python3.11/dist-packages (from google-generativeai==0.8.4) (5.29.4)\n",
            "Requirement already satisfied: pydantic in /usr/local/lib/python3.11/dist-packages (from google-generativeai==0.8.4) (2.11.2)\n",
            "Requirement already satisfied: tqdm in /usr/local/lib/python3.11/dist-packages (from google-generativeai==0.8.4) (4.67.1)\n",
            "Requirement already satisfied: typing-extensions in /usr/local/lib/python3.11/dist-packages (from google-generativeai==0.8.4) (4.13.1)\n",
            "Requirement already satisfied: proto-plus<2.0.0dev,>=1.22.3 in /usr/local/lib/python3.11/dist-packages (from google-ai-generativelanguage==0.6.15) (1.26.1)\n",
            "Requirement already satisfied: googleapis-common-protos<2.0.0,>=1.56.2 in /usr/local/lib/python3.11/dist-packages (from google-api-core->google-generativeai==0.8.4) (1.69.2)\n",
            "Requirement already satisfied: requests<3.0.0,>=2.18.0 in /usr/local/lib/python3.11/dist-packages (from google-api-core->google-generativeai==0.8.4) (2.32.3)\n",
            "Requirement already satisfied: grpcio<2.0dev,>=1.33.2 in /usr/local/lib/python3.11/dist-packages (from google-api-core[grpc]!=2.0.*,!=2.1.*,!=2.10.*,!=2.2.*,!=2.3.*,!=2.4.*,!=2.5.*,!=2.6.*,!=2.7.*,!=2.8.*,!=2.9.*,<3.0.0dev,>=1.34.1->google-ai-generativelanguage==0.6.15) (1.71.0)\n",
            "Requirement already satisfied: grpcio-status<2.0.dev0,>=1.33.2 in /usr/local/lib/python3.11/dist-packages (from google-api-core[grpc]!=2.0.*,!=2.1.*,!=2.10.*,!=2.2.*,!=2.3.*,!=2.4.*,!=2.5.*,!=2.6.*,!=2.7.*,!=2.8.*,!=2.9.*,<3.0.0dev,>=1.34.1->google-ai-generativelanguage==0.6.15) (1.71.0)\n",
            "Requirement already satisfied: cachetools<6.0,>=2.0.0 in /usr/local/lib/python3.11/dist-packages (from google-auth>=2.15.0->google-generativeai==0.8.4) (5.5.2)\n",
            "Requirement already satisfied: pyasn1-modules>=0.2.1 in /usr/local/lib/python3.11/dist-packages (from google-auth>=2.15.0->google-generativeai==0.8.4) (0.4.2)\n",
            "Requirement already satisfied: rsa<5,>=3.1.4 in /usr/local/lib/python3.11/dist-packages (from google-auth>=2.15.0->google-generativeai==0.8.4) (4.9)\n",
            "Requirement already satisfied: httplib2<1.dev0,>=0.19.0 in /usr/local/lib/python3.11/dist-packages (from google-api-python-client->google-generativeai==0.8.4) (0.22.0)\n",
            "Requirement already satisfied: google-auth-httplib2<1.0.0,>=0.2.0 in /usr/local/lib/python3.11/dist-packages (from google-api-python-client->google-generativeai==0.8.4) (0.2.0)\n",
            "Requirement already satisfied: uritemplate<5,>=3.0.1 in /usr/local/lib/python3.11/dist-packages (from google-api-python-client->google-generativeai==0.8.4) (4.1.1)\n",
            "Requirement already satisfied: annotated-types>=0.6.0 in /usr/local/lib/python3.11/dist-packages (from pydantic->google-generativeai==0.8.4) (0.7.0)\n",
            "Requirement already satisfied: pydantic-core==2.33.1 in /usr/local/lib/python3.11/dist-packages (from pydantic->google-generativeai==0.8.4) (2.33.1)\n",
            "Requirement already satisfied: typing-inspection>=0.4.0 in /usr/local/lib/python3.11/dist-packages (from pydantic->google-generativeai==0.8.4) (0.4.0)\n",
            "Requirement already satisfied: pyparsing!=3.0.0,!=3.0.1,!=3.0.2,!=3.0.3,<4,>=2.4.2 in /usr/local/lib/python3.11/dist-packages (from httplib2<1.dev0,>=0.19.0->google-api-python-client->google-generativeai==0.8.4) (3.2.3)\n",
            "Requirement already satisfied: pyasn1<0.7.0,>=0.6.1 in /usr/local/lib/python3.11/dist-packages (from pyasn1-modules>=0.2.1->google-auth>=2.15.0->google-generativeai==0.8.4) (0.6.1)\n",
            "Requirement already satisfied: charset-normalizer<4,>=2 in /usr/local/lib/python3.11/dist-packages (from requests<3.0.0,>=2.18.0->google-api-core->google-generativeai==0.8.4) (3.4.1)\n",
            "Requirement already satisfied: idna<4,>=2.5 in /usr/local/lib/python3.11/dist-packages (from requests<3.0.0,>=2.18.0->google-api-core->google-generativeai==0.8.4) (3.10)\n",
            "Requirement already satisfied: urllib3<3,>=1.21.1 in /usr/local/lib/python3.11/dist-packages (from requests<3.0.0,>=2.18.0->google-api-core->google-generativeai==0.8.4) (2.3.0)\n",
            "Requirement already satisfied: certifi>=2017.4.17 in /usr/local/lib/python3.11/dist-packages (from requests<3.0.0,>=2.18.0->google-api-core->google-generativeai==0.8.4) (2025.1.31)\n"
          ]
        }
      ]
    },
    {
      "cell_type": "code",
      "source": [
        "pip install -qU langchain-chroma"
      ],
      "metadata": {
        "colab": {
          "base_uri": "https://localhost:8080/"
        },
        "id": "A7ouzHIB5MSm",
        "outputId": "1c9d4be7-77a6-418d-8ff5-c37f2420cf53"
      },
      "execution_count": null,
      "outputs": [
        {
          "output_type": "stream",
          "name": "stdout",
          "text": [
            "\u001b[2K     \u001b[90m━━━━━━━━━━━━━━━━━━━━━━━━━━━━━━━━━━━━━━━━\u001b[0m \u001b[32m61.0/61.0 kB\u001b[0m \u001b[31m2.2 MB/s\u001b[0m eta \u001b[36m0:00:00\u001b[0m\n",
            "\u001b[2K     \u001b[90m━━━━━━━━━━━━━━━━━━━━━━━━━━━━━━━━━━━━━━━━\u001b[0m \u001b[32m67.3/67.3 kB\u001b[0m \u001b[31m4.7 MB/s\u001b[0m eta \u001b[36m0:00:00\u001b[0m\n",
            "\u001b[?25h  Installing build dependencies ... \u001b[?25l\u001b[?25hdone\n",
            "  Getting requirements to build wheel ... \u001b[?25l\u001b[?25hdone\n",
            "  Preparing metadata (pyproject.toml) ... \u001b[?25l\u001b[?25hdone\n",
            "\u001b[2K   \u001b[90m━━━━━━━━━━━━━━━━━━━━━━━━━━━━━━━━━━━━━━━━\u001b[0m \u001b[32m611.1/611.1 kB\u001b[0m \u001b[31m12.7 MB/s\u001b[0m eta \u001b[36m0:00:00\u001b[0m\n",
            "\u001b[2K   \u001b[90m━━━━━━━━━━━━━━━━━━━━━━━━━━━━━━━━━━━━━━━━\u001b[0m \u001b[32m2.4/2.4 MB\u001b[0m \u001b[31m50.6 MB/s\u001b[0m eta \u001b[36m0:00:00\u001b[0m\n",
            "\u001b[2K   \u001b[90m━━━━━━━━━━━━━━━━━━━━━━━━━━━━━━━━━━━━━━━━\u001b[0m \u001b[32m18.3/18.3 MB\u001b[0m \u001b[31m76.0 MB/s\u001b[0m eta \u001b[36m0:00:00\u001b[0m\n",
            "\u001b[2K   \u001b[90m━━━━━━━━━━━━━━━━━━━━━━━━━━━━━━━━━━━━━━━━\u001b[0m \u001b[32m284.2/284.2 kB\u001b[0m \u001b[31m24.8 MB/s\u001b[0m eta \u001b[36m0:00:00\u001b[0m\n",
            "\u001b[2K   \u001b[90m━━━━━━━━━━━━━━━━━━━━━━━━━━━━━━━━━━━━━━━━\u001b[0m \u001b[32m95.2/95.2 kB\u001b[0m \u001b[31m8.1 MB/s\u001b[0m eta \u001b[36m0:00:00\u001b[0m\n",
            "\u001b[2K   \u001b[90m━━━━━━━━━━━━━━━━━━━━━━━━━━━━━━━━━━━━━━━━\u001b[0m \u001b[32m2.0/2.0 MB\u001b[0m \u001b[31m75.7 MB/s\u001b[0m eta \u001b[36m0:00:00\u001b[0m\n",
            "\u001b[2K   \u001b[90m━━━━━━━━━━━━━━━━━━━━━━━━━━━━━━━━━━━━━━━━\u001b[0m \u001b[32m101.6/101.6 kB\u001b[0m \u001b[31m10.2 MB/s\u001b[0m eta \u001b[36m0:00:00\u001b[0m\n",
            "\u001b[2K   \u001b[90m━━━━━━━━━━━━━━━━━━━━━━━━━━━━━━━━━━━━━━━━\u001b[0m \u001b[32m16.0/16.0 MB\u001b[0m \u001b[31m84.7 MB/s\u001b[0m eta \u001b[36m0:00:00\u001b[0m\n",
            "\u001b[2K   \u001b[90m━━━━━━━━━━━━━━━━━━━━━━━━━━━━━━━━━━━━━━━━\u001b[0m \u001b[32m55.9/55.9 kB\u001b[0m \u001b[31m5.1 MB/s\u001b[0m eta \u001b[36m0:00:00\u001b[0m\n",
            "\u001b[2K   \u001b[90m━━━━━━━━━━━━━━━━━━━━━━━━━━━━━━━━━━━━━━━━\u001b[0m \u001b[32m85.0/85.0 kB\u001b[0m \u001b[31m8.2 MB/s\u001b[0m eta \u001b[36m0:00:00\u001b[0m\n",
            "\u001b[2K   \u001b[90m━━━━━━━━━━━━━━━━━━━━━━━━━━━━━━━━━━━━━━━━\u001b[0m \u001b[32m62.3/62.3 kB\u001b[0m \u001b[31m5.8 MB/s\u001b[0m eta \u001b[36m0:00:00\u001b[0m\n",
            "\u001b[2K   \u001b[90m━━━━━━━━━━━━━━━━━━━━━━━━━━━━━━━━━━━━━━━━\u001b[0m \u001b[32m459.8/459.8 kB\u001b[0m \u001b[31m33.9 MB/s\u001b[0m eta \u001b[36m0:00:00\u001b[0m\n",
            "\u001b[2K   \u001b[90m━━━━━━━━━━━━━━━━━━━━━━━━━━━━━━━━━━━━━━━━\u001b[0m \u001b[32m72.0/72.0 kB\u001b[0m \u001b[31m7.4 MB/s\u001b[0m eta \u001b[36m0:00:00\u001b[0m\n",
            "\u001b[2K   \u001b[90m━━━━━━━━━━━━━━━━━━━━━━━━━━━━━━━━━━━━━━━━\u001b[0m \u001b[32m4.0/4.0 MB\u001b[0m \u001b[31m88.3 MB/s\u001b[0m eta \u001b[36m0:00:00\u001b[0m\n",
            "\u001b[2K   \u001b[90m━━━━━━━━━━━━━━━━━━━━━━━━━━━━━━━━━━━━━━━━\u001b[0m \u001b[32m454.8/454.8 kB\u001b[0m \u001b[31m32.3 MB/s\u001b[0m eta \u001b[36m0:00:00\u001b[0m\n",
            "\u001b[2K   \u001b[90m━━━━━━━━━━━━━━━━━━━━━━━━━━━━━━━━━━━━━━━━\u001b[0m \u001b[32m46.0/46.0 kB\u001b[0m \u001b[31m4.3 MB/s\u001b[0m eta \u001b[36m0:00:00\u001b[0m\n",
            "\u001b[2K   \u001b[90m━━━━━━━━━━━━━━━━━━━━━━━━━━━━━━━━━━━━━━━━\u001b[0m \u001b[32m86.8/86.8 kB\u001b[0m \u001b[31m8.2 MB/s\u001b[0m eta \u001b[36m0:00:00\u001b[0m\n",
            "\u001b[?25h  Building wheel for pypika (pyproject.toml) ... \u001b[?25l\u001b[?25hdone\n"
          ]
        }
      ]
    },
    {
      "cell_type": "code",
      "source": [
        "pip install -qU langchain-nomic"
      ],
      "metadata": {
        "colab": {
          "base_uri": "https://localhost:8080/"
        },
        "id": "qN4XbkFW5Rm0",
        "outputId": "22400e65-310b-4918-810c-6eac2f4c993d"
      },
      "execution_count": null,
      "outputs": [
        {
          "output_type": "stream",
          "name": "stdout",
          "text": [
            "\u001b[?25l     \u001b[90m━━━━━━━━━━━━━━━━━━━━━━━━━━━━━━━━━━━━━━━━\u001b[0m \u001b[32m0.0/49.5 kB\u001b[0m \u001b[31m?\u001b[0m eta \u001b[36m-:--:--\u001b[0m\r\u001b[2K     \u001b[90m━━━━━━━━━━━━━━━━━━━━━━━━━━━━━━━━━━━━━━━━\u001b[0m \u001b[32m49.5/49.5 kB\u001b[0m \u001b[31m1.9 MB/s\u001b[0m eta \u001b[36m0:00:00\u001b[0m\n",
            "\u001b[?25h  Installing build dependencies ... \u001b[?25l\u001b[?25hdone\n",
            "  Getting requirements to build wheel ... \u001b[?25l\u001b[?25hdone\n",
            "  Preparing metadata (pyproject.toml) ... \u001b[?25l\u001b[?25hdone\n",
            "\u001b[2K   \u001b[90m━━━━━━━━━━━━━━━━━━━━━━━━━━━━━━━━━━━━━━━━\u001b[0m \u001b[32m4.5/4.5 MB\u001b[0m \u001b[31m24.3 MB/s\u001b[0m eta \u001b[36m0:00:00\u001b[0m\n",
            "\u001b[2K   \u001b[90m━━━━━━━━━━━━━━━━━━━━━━━━━━━━━━━━━━━━━━━━\u001b[0m \u001b[32m61.6/61.6 kB\u001b[0m \u001b[31m2.3 MB/s\u001b[0m eta \u001b[36m0:00:00\u001b[0m\n",
            "\u001b[?25h  Building wheel for nomic (pyproject.toml) ... \u001b[?25l\u001b[?25hdone\n"
          ]
        }
      ]
    },
    {
      "cell_type": "code",
      "source": [
        "!pip install --upgrade numpy\n",
        "!pip install --upgrade pandas\n",
        "!pip install --upgrade langchain-nomic"
      ],
      "metadata": {
        "colab": {
          "base_uri": "https://localhost:8080/"
        },
        "id": "jqo-x4sh5vZG",
        "outputId": "cc12f88c-be94-4e66-ce12-0951945c01be"
      },
      "execution_count": null,
      "outputs": [
        {
          "output_type": "stream",
          "name": "stdout",
          "text": [
            "Requirement already satisfied: numpy in /usr/local/lib/python3.11/dist-packages (1.26.4)\n",
            "Collecting numpy\n",
            "  Downloading numpy-2.2.4-cp311-cp311-manylinux_2_17_x86_64.manylinux2014_x86_64.whl.metadata (62 kB)\n",
            "\u001b[2K     \u001b[90m━━━━━━━━━━━━━━━━━━━━━━━━━━━━━━━━━━━━━━━━\u001b[0m \u001b[32m62.0/62.0 kB\u001b[0m \u001b[31m1.7 MB/s\u001b[0m eta \u001b[36m0:00:00\u001b[0m\n",
            "\u001b[?25hDownloading numpy-2.2.4-cp311-cp311-manylinux_2_17_x86_64.manylinux2014_x86_64.whl (16.4 MB)\n",
            "\u001b[2K   \u001b[90m━━━━━━━━━━━━━━━━━━━━━━━━━━━━━━━━━━━━━━━━\u001b[0m \u001b[32m16.4/16.4 MB\u001b[0m \u001b[31m39.7 MB/s\u001b[0m eta \u001b[36m0:00:00\u001b[0m\n",
            "\u001b[?25hInstalling collected packages: numpy\n",
            "  Attempting uninstall: numpy\n",
            "    Found existing installation: numpy 1.26.4\n",
            "    Uninstalling numpy-1.26.4:\n",
            "      Successfully uninstalled numpy-1.26.4\n",
            "\u001b[31mERROR: pip's dependency resolver does not currently take into account all the packages that are installed. This behaviour is the source of the following dependency conflicts.\n",
            "langchain-chroma 0.2.2 requires numpy<2.0.0,>=1.22.4; python_version < \"3.12\", but you have numpy 2.2.4 which is incompatible.\n",
            "numba 0.60.0 requires numpy<2.1,>=1.22, but you have numpy 2.2.4 which is incompatible.\n",
            "tensorflow 2.18.0 requires numpy<2.1.0,>=1.26.0, but you have numpy 2.2.4 which is incompatible.\u001b[0m\u001b[31m\n",
            "\u001b[0mSuccessfully installed numpy-2.2.4\n",
            "Requirement already satisfied: pandas in /usr/local/lib/python3.11/dist-packages (2.2.2)\n",
            "Collecting pandas\n",
            "  Downloading pandas-2.2.3-cp311-cp311-manylinux_2_17_x86_64.manylinux2014_x86_64.whl.metadata (89 kB)\n",
            "\u001b[2K     \u001b[90m━━━━━━━━━━━━━━━━━━━━━━━━━━━━━━━━━━━━━━━━\u001b[0m \u001b[32m89.9/89.9 kB\u001b[0m \u001b[31m2.0 MB/s\u001b[0m eta \u001b[36m0:00:00\u001b[0m\n",
            "\u001b[?25hRequirement already satisfied: numpy>=1.23.2 in /usr/local/lib/python3.11/dist-packages (from pandas) (2.2.4)\n",
            "Requirement already satisfied: python-dateutil>=2.8.2 in /usr/local/lib/python3.11/dist-packages (from pandas) (2.8.2)\n",
            "Requirement already satisfied: pytz>=2020.1 in /usr/local/lib/python3.11/dist-packages (from pandas) (2025.2)\n",
            "Requirement already satisfied: tzdata>=2022.7 in /usr/local/lib/python3.11/dist-packages (from pandas) (2025.2)\n",
            "Requirement already satisfied: six>=1.5 in /usr/local/lib/python3.11/dist-packages (from python-dateutil>=2.8.2->pandas) (1.17.0)\n",
            "Downloading pandas-2.2.3-cp311-cp311-manylinux_2_17_x86_64.manylinux2014_x86_64.whl (13.1 MB)\n",
            "\u001b[2K   \u001b[90m━━━━━━━━━━━━━━━━━━━━━━━━━━━━━━━━━━━━━━━━\u001b[0m \u001b[32m13.1/13.1 MB\u001b[0m \u001b[31m99.0 MB/s\u001b[0m eta \u001b[36m0:00:00\u001b[0m\n",
            "\u001b[?25hInstalling collected packages: pandas\n",
            "  Attempting uninstall: pandas\n",
            "    Found existing installation: pandas 2.2.2\n",
            "    Uninstalling pandas-2.2.2:\n",
            "      Successfully uninstalled pandas-2.2.2\n",
            "\u001b[31mERROR: pip's dependency resolver does not currently take into account all the packages that are installed. This behaviour is the source of the following dependency conflicts.\n",
            "google-colab 1.0.0 requires pandas==2.2.2, but you have pandas 2.2.3 which is incompatible.\u001b[0m\u001b[31m\n",
            "\u001b[0mSuccessfully installed pandas-2.2.3\n",
            "Requirement already satisfied: langchain-nomic in /usr/local/lib/python3.11/dist-packages (0.1.4)\n",
            "Requirement already satisfied: langchain-core!=0.3.0,!=0.3.1,!=0.3.10,!=0.3.11,!=0.3.12,!=0.3.13,!=0.3.14,!=0.3.2,!=0.3.3,!=0.3.4,!=0.3.5,!=0.3.6,!=0.3.7,!=0.3.8,!=0.3.9,<0.4.0,>=0.2.43 in /usr/local/lib/python3.11/dist-packages (from langchain-nomic) (0.3.51)\n",
            "Requirement already satisfied: nomic<4.0.0,>=3.1.2 in /usr/local/lib/python3.11/dist-packages (from langchain-nomic) (3.4.1)\n",
            "Requirement already satisfied: pillow<11.0.0,>=10.3.0 in /usr/local/lib/python3.11/dist-packages (from langchain-nomic) (10.4.0)\n",
            "Requirement already satisfied: langsmith<0.4,>=0.1.125 in /usr/local/lib/python3.11/dist-packages (from langchain-core!=0.3.0,!=0.3.1,!=0.3.10,!=0.3.11,!=0.3.12,!=0.3.13,!=0.3.14,!=0.3.2,!=0.3.3,!=0.3.4,!=0.3.5,!=0.3.6,!=0.3.7,!=0.3.8,!=0.3.9,<0.4.0,>=0.2.43->langchain-nomic) (0.3.23)\n",
            "Requirement already satisfied: tenacity!=8.4.0,<10.0.0,>=8.1.0 in /usr/local/lib/python3.11/dist-packages (from langchain-core!=0.3.0,!=0.3.1,!=0.3.10,!=0.3.11,!=0.3.12,!=0.3.13,!=0.3.14,!=0.3.2,!=0.3.3,!=0.3.4,!=0.3.5,!=0.3.6,!=0.3.7,!=0.3.8,!=0.3.9,<0.4.0,>=0.2.43->langchain-nomic) (9.1.2)\n",
            "Requirement already satisfied: jsonpatch<2.0,>=1.33 in /usr/local/lib/python3.11/dist-packages (from langchain-core!=0.3.0,!=0.3.1,!=0.3.10,!=0.3.11,!=0.3.12,!=0.3.13,!=0.3.14,!=0.3.2,!=0.3.3,!=0.3.4,!=0.3.5,!=0.3.6,!=0.3.7,!=0.3.8,!=0.3.9,<0.4.0,>=0.2.43->langchain-nomic) (1.33)\n",
            "Requirement already satisfied: PyYAML>=5.3 in /usr/local/lib/python3.11/dist-packages (from langchain-core!=0.3.0,!=0.3.1,!=0.3.10,!=0.3.11,!=0.3.12,!=0.3.13,!=0.3.14,!=0.3.2,!=0.3.3,!=0.3.4,!=0.3.5,!=0.3.6,!=0.3.7,!=0.3.8,!=0.3.9,<0.4.0,>=0.2.43->langchain-nomic) (6.0.2)\n",
            "Requirement already satisfied: packaging<25,>=23.2 in /usr/local/lib/python3.11/dist-packages (from langchain-core!=0.3.0,!=0.3.1,!=0.3.10,!=0.3.11,!=0.3.12,!=0.3.13,!=0.3.14,!=0.3.2,!=0.3.3,!=0.3.4,!=0.3.5,!=0.3.6,!=0.3.7,!=0.3.8,!=0.3.9,<0.4.0,>=0.2.43->langchain-nomic) (24.2)\n",
            "Requirement already satisfied: typing-extensions>=4.7 in /usr/local/lib/python3.11/dist-packages (from langchain-core!=0.3.0,!=0.3.1,!=0.3.10,!=0.3.11,!=0.3.12,!=0.3.13,!=0.3.14,!=0.3.2,!=0.3.3,!=0.3.4,!=0.3.5,!=0.3.6,!=0.3.7,!=0.3.8,!=0.3.9,<0.4.0,>=0.2.43->langchain-nomic) (4.13.1)\n",
            "Requirement already satisfied: pydantic<3.0.0,>=2.5.2 in /usr/local/lib/python3.11/dist-packages (from langchain-core!=0.3.0,!=0.3.1,!=0.3.10,!=0.3.11,!=0.3.12,!=0.3.13,!=0.3.14,!=0.3.2,!=0.3.3,!=0.3.4,!=0.3.5,!=0.3.6,!=0.3.7,!=0.3.8,!=0.3.9,<0.4.0,>=0.2.43->langchain-nomic) (2.11.2)\n",
            "Requirement already satisfied: click in /usr/local/lib/python3.11/dist-packages (from nomic<4.0.0,>=3.1.2->langchain-nomic) (8.1.8)\n",
            "Requirement already satisfied: jsonlines in /usr/local/lib/python3.11/dist-packages (from nomic<4.0.0,>=3.1.2->langchain-nomic) (4.0.0)\n",
            "Requirement already satisfied: loguru in /usr/local/lib/python3.11/dist-packages (from nomic<4.0.0,>=3.1.2->langchain-nomic) (0.7.3)\n",
            "Requirement already satisfied: rich in /usr/local/lib/python3.11/dist-packages (from nomic<4.0.0,>=3.1.2->langchain-nomic) (13.9.4)\n",
            "Requirement already satisfied: requests in /usr/local/lib/python3.11/dist-packages (from nomic<4.0.0,>=3.1.2->langchain-nomic) (2.32.3)\n",
            "Requirement already satisfied: numpy in /usr/local/lib/python3.11/dist-packages (from nomic<4.0.0,>=3.1.2->langchain-nomic) (2.2.4)\n",
            "Requirement already satisfied: pandas in /usr/local/lib/python3.11/dist-packages (from nomic<4.0.0,>=3.1.2->langchain-nomic) (2.2.3)\n",
            "Requirement already satisfied: tqdm in /usr/local/lib/python3.11/dist-packages (from nomic<4.0.0,>=3.1.2->langchain-nomic) (4.67.1)\n",
            "Requirement already satisfied: pyarrow in /usr/local/lib/python3.11/dist-packages (from nomic<4.0.0,>=3.1.2->langchain-nomic) (18.1.0)\n",
            "Requirement already satisfied: pyjwt in /usr/local/lib/python3.11/dist-packages (from nomic<4.0.0,>=3.1.2->langchain-nomic) (2.10.1)\n",
            "Requirement already satisfied: jsonpointer>=1.9 in /usr/local/lib/python3.11/dist-packages (from jsonpatch<2.0,>=1.33->langchain-core!=0.3.0,!=0.3.1,!=0.3.10,!=0.3.11,!=0.3.12,!=0.3.13,!=0.3.14,!=0.3.2,!=0.3.3,!=0.3.4,!=0.3.5,!=0.3.6,!=0.3.7,!=0.3.8,!=0.3.9,<0.4.0,>=0.2.43->langchain-nomic) (3.0.0)\n",
            "Requirement already satisfied: httpx<1,>=0.23.0 in /usr/local/lib/python3.11/dist-packages (from langsmith<0.4,>=0.1.125->langchain-core!=0.3.0,!=0.3.1,!=0.3.10,!=0.3.11,!=0.3.12,!=0.3.13,!=0.3.14,!=0.3.2,!=0.3.3,!=0.3.4,!=0.3.5,!=0.3.6,!=0.3.7,!=0.3.8,!=0.3.9,<0.4.0,>=0.2.43->langchain-nomic) (0.28.1)\n",
            "Requirement already satisfied: orjson<4.0.0,>=3.9.14 in /usr/local/lib/python3.11/dist-packages (from langsmith<0.4,>=0.1.125->langchain-core!=0.3.0,!=0.3.1,!=0.3.10,!=0.3.11,!=0.3.12,!=0.3.13,!=0.3.14,!=0.3.2,!=0.3.3,!=0.3.4,!=0.3.5,!=0.3.6,!=0.3.7,!=0.3.8,!=0.3.9,<0.4.0,>=0.2.43->langchain-nomic) (3.10.16)\n",
            "Requirement already satisfied: requests-toolbelt<2.0.0,>=1.0.0 in /usr/local/lib/python3.11/dist-packages (from langsmith<0.4,>=0.1.125->langchain-core!=0.3.0,!=0.3.1,!=0.3.10,!=0.3.11,!=0.3.12,!=0.3.13,!=0.3.14,!=0.3.2,!=0.3.3,!=0.3.4,!=0.3.5,!=0.3.6,!=0.3.7,!=0.3.8,!=0.3.9,<0.4.0,>=0.2.43->langchain-nomic) (1.0.0)\n",
            "Requirement already satisfied: zstandard<0.24.0,>=0.23.0 in /usr/local/lib/python3.11/dist-packages (from langsmith<0.4,>=0.1.125->langchain-core!=0.3.0,!=0.3.1,!=0.3.10,!=0.3.11,!=0.3.12,!=0.3.13,!=0.3.14,!=0.3.2,!=0.3.3,!=0.3.4,!=0.3.5,!=0.3.6,!=0.3.7,!=0.3.8,!=0.3.9,<0.4.0,>=0.2.43->langchain-nomic) (0.23.0)\n",
            "Requirement already satisfied: annotated-types>=0.6.0 in /usr/local/lib/python3.11/dist-packages (from pydantic<3.0.0,>=2.5.2->langchain-core!=0.3.0,!=0.3.1,!=0.3.10,!=0.3.11,!=0.3.12,!=0.3.13,!=0.3.14,!=0.3.2,!=0.3.3,!=0.3.4,!=0.3.5,!=0.3.6,!=0.3.7,!=0.3.8,!=0.3.9,<0.4.0,>=0.2.43->langchain-nomic) (0.7.0)\n",
            "Requirement already satisfied: pydantic-core==2.33.1 in /usr/local/lib/python3.11/dist-packages (from pydantic<3.0.0,>=2.5.2->langchain-core!=0.3.0,!=0.3.1,!=0.3.10,!=0.3.11,!=0.3.12,!=0.3.13,!=0.3.14,!=0.3.2,!=0.3.3,!=0.3.4,!=0.3.5,!=0.3.6,!=0.3.7,!=0.3.8,!=0.3.9,<0.4.0,>=0.2.43->langchain-nomic) (2.33.1)\n",
            "Requirement already satisfied: typing-inspection>=0.4.0 in /usr/local/lib/python3.11/dist-packages (from pydantic<3.0.0,>=2.5.2->langchain-core!=0.3.0,!=0.3.1,!=0.3.10,!=0.3.11,!=0.3.12,!=0.3.13,!=0.3.14,!=0.3.2,!=0.3.3,!=0.3.4,!=0.3.5,!=0.3.6,!=0.3.7,!=0.3.8,!=0.3.9,<0.4.0,>=0.2.43->langchain-nomic) (0.4.0)\n",
            "Requirement already satisfied: charset-normalizer<4,>=2 in /usr/local/lib/python3.11/dist-packages (from requests->nomic<4.0.0,>=3.1.2->langchain-nomic) (3.4.1)\n",
            "Requirement already satisfied: idna<4,>=2.5 in /usr/local/lib/python3.11/dist-packages (from requests->nomic<4.0.0,>=3.1.2->langchain-nomic) (3.10)\n",
            "Requirement already satisfied: urllib3<3,>=1.21.1 in /usr/local/lib/python3.11/dist-packages (from requests->nomic<4.0.0,>=3.1.2->langchain-nomic) (2.3.0)\n",
            "Requirement already satisfied: certifi>=2017.4.17 in /usr/local/lib/python3.11/dist-packages (from requests->nomic<4.0.0,>=3.1.2->langchain-nomic) (2025.1.31)\n",
            "Requirement already satisfied: attrs>=19.2.0 in /usr/local/lib/python3.11/dist-packages (from jsonlines->nomic<4.0.0,>=3.1.2->langchain-nomic) (25.3.0)\n",
            "Requirement already satisfied: python-dateutil>=2.8.2 in /usr/local/lib/python3.11/dist-packages (from pandas->nomic<4.0.0,>=3.1.2->langchain-nomic) (2.8.2)\n",
            "Requirement already satisfied: pytz>=2020.1 in /usr/local/lib/python3.11/dist-packages (from pandas->nomic<4.0.0,>=3.1.2->langchain-nomic) (2025.2)\n",
            "Requirement already satisfied: tzdata>=2022.7 in /usr/local/lib/python3.11/dist-packages (from pandas->nomic<4.0.0,>=3.1.2->langchain-nomic) (2025.2)\n",
            "Requirement already satisfied: markdown-it-py>=2.2.0 in /usr/local/lib/python3.11/dist-packages (from rich->nomic<4.0.0,>=3.1.2->langchain-nomic) (3.0.0)\n",
            "Requirement already satisfied: pygments<3.0.0,>=2.13.0 in /usr/local/lib/python3.11/dist-packages (from rich->nomic<4.0.0,>=3.1.2->langchain-nomic) (2.18.0)\n",
            "Requirement already satisfied: anyio in /usr/local/lib/python3.11/dist-packages (from httpx<1,>=0.23.0->langsmith<0.4,>=0.1.125->langchain-core!=0.3.0,!=0.3.1,!=0.3.10,!=0.3.11,!=0.3.12,!=0.3.13,!=0.3.14,!=0.3.2,!=0.3.3,!=0.3.4,!=0.3.5,!=0.3.6,!=0.3.7,!=0.3.8,!=0.3.9,<0.4.0,>=0.2.43->langchain-nomic) (4.9.0)\n",
            "Requirement already satisfied: httpcore==1.* in /usr/local/lib/python3.11/dist-packages (from httpx<1,>=0.23.0->langsmith<0.4,>=0.1.125->langchain-core!=0.3.0,!=0.3.1,!=0.3.10,!=0.3.11,!=0.3.12,!=0.3.13,!=0.3.14,!=0.3.2,!=0.3.3,!=0.3.4,!=0.3.5,!=0.3.6,!=0.3.7,!=0.3.8,!=0.3.9,<0.4.0,>=0.2.43->langchain-nomic) (1.0.7)\n",
            "Requirement already satisfied: h11<0.15,>=0.13 in /usr/local/lib/python3.11/dist-packages (from httpcore==1.*->httpx<1,>=0.23.0->langsmith<0.4,>=0.1.125->langchain-core!=0.3.0,!=0.3.1,!=0.3.10,!=0.3.11,!=0.3.12,!=0.3.13,!=0.3.14,!=0.3.2,!=0.3.3,!=0.3.4,!=0.3.5,!=0.3.6,!=0.3.7,!=0.3.8,!=0.3.9,<0.4.0,>=0.2.43->langchain-nomic) (0.14.0)\n",
            "Requirement already satisfied: mdurl~=0.1 in /usr/local/lib/python3.11/dist-packages (from markdown-it-py>=2.2.0->rich->nomic<4.0.0,>=3.1.2->langchain-nomic) (0.1.2)\n",
            "Requirement already satisfied: six>=1.5 in /usr/local/lib/python3.11/dist-packages (from python-dateutil>=2.8.2->pandas->nomic<4.0.0,>=3.1.2->langchain-nomic) (1.17.0)\n",
            "Requirement already satisfied: sniffio>=1.1 in /usr/local/lib/python3.11/dist-packages (from anyio->httpx<1,>=0.23.0->langsmith<0.4,>=0.1.125->langchain-core!=0.3.0,!=0.3.1,!=0.3.10,!=0.3.11,!=0.3.12,!=0.3.13,!=0.3.14,!=0.3.2,!=0.3.3,!=0.3.4,!=0.3.5,!=0.3.6,!=0.3.7,!=0.3.8,!=0.3.9,<0.4.0,>=0.2.43->langchain-nomic) (1.3.1)\n"
          ]
        }
      ]
    },
    {
      "cell_type": "code",
      "source": [
        "# For creating vector store\n",
        "#from langchain.indexes import VectorstoreIndexCreator\n",
        "#from langchain.vectorstores import DocArrayInMemorySearch\n",
        "#from langchain.document_loaders import CSVLoader\n",
        "from langchain_community.vectorstores import DocArrayInMemorySearch\n",
        "from IPython.display import display, Markdown\n",
        "#from langchain_huggingface import HuggingFaceEmbeddings\n",
        "from langchain_community.document_loaders import PyPDFLoader\n",
        "from langchain.chains import RetrievalQA\n",
        "from langchain.evaluation.qa import QAGenerateChain\n",
        "from langchain_text_splitters import RecursiveCharacterTextSplitter\n",
        "from langchain_google_genai import ChatGoogleGenerativeAI\n",
        "from langchain_chroma import Chroma\n",
        "from langchain_nomic import NomicEmbeddings"
      ],
      "metadata": {
        "id": "SrpKM5-X5UfB"
      },
      "execution_count": null,
      "outputs": []
    },
    {
      "cell_type": "code",
      "source": [
        "file_path = \"/content/hai_ai-index-report-2024-smaller2.pdf\"\n",
        "loader = PyPDFLoader(file_path)"
      ],
      "metadata": {
        "id": "woig8cdF5gmG"
      },
      "execution_count": null,
      "outputs": []
    },
    {
      "cell_type": "code",
      "source": [
        "docs = loader.load()\n",
        "docs[0]"
      ],
      "metadata": {
        "colab": {
          "base_uri": "https://localhost:8080/"
        },
        "id": "9l-SlB_w6WQA",
        "outputId": "49c9392c-d43a-4390-858a-fd4561be03d6"
      },
      "execution_count": null,
      "outputs": [
        {
          "output_type": "execute_result",
          "data": {
            "text/plain": [
              "Document(metadata={'producer': 'Adobe PDF Library 17.0', 'creator': 'Adobe InDesign 19.3 (Macintosh)', 'creationdate': '2024-05-28T21:46:12-07:00', 'moddate': '2024-09-30T10:31:38-06:00', 'trapped': '/False', 'source': '/content/hai_ai-index-report-2024-smaller2.pdf', 'total_pages': 502, 'page': 0, 'page_label': '1'}, page_content='Artificial  \\nIntelligence\\nInde\\nx Report \\n2024')"
            ]
          },
          "metadata": {},
          "execution_count": 4
        }
      ]
    },
    {
      "cell_type": "code",
      "source": [
        "import pprint\n",
        "\n",
        "pprint.pp(docs[98].metadata)"
      ],
      "metadata": {
        "colab": {
          "base_uri": "https://localhost:8080/"
        },
        "id": "CuJVHDlW6YlH",
        "outputId": "741ee5e7-ec99-45a9-cc95-cec19e3cd6c0"
      },
      "execution_count": null,
      "outputs": [
        {
          "output_type": "stream",
          "name": "stdout",
          "text": [
            "{'producer': 'Adobe PDF Library 17.0',\n",
            " 'creator': 'Adobe InDesign 19.3 (Macintosh)',\n",
            " 'creationdate': '2024-05-28T21:46:12-07:00',\n",
            " 'moddate': '2024-09-30T10:31:38-06:00',\n",
            " 'trapped': '/False',\n",
            " 'source': '/content/hai_ai-index-report-2024-smaller2.pdf',\n",
            " 'total_pages': 502,\n",
            " 'page': 98,\n",
            " 'page_label': '99'}\n"
          ]
        }
      ]
    },
    {
      "cell_type": "code",
      "source": [
        "text_splitter=RecursiveCharacterTextSplitter(chunk_size=1500, chunk_overlap=150)\n",
        "docs=text_splitter.split_documents(docs)\n",
        "docs[90]"
      ],
      "metadata": {
        "colab": {
          "base_uri": "https://localhost:8080/"
        },
        "id": "2WvHvObU6cMi",
        "outputId": "66c3615e-9b8b-4604-e32c-b1529072f91c"
      },
      "execution_count": null,
      "outputs": [
        {
          "output_type": "execute_result",
          "data": {
            "text/plain": [
              "Document(metadata={'producer': 'Adobe PDF Library 17.0', 'creator': 'Adobe InDesign 19.3 (Macintosh)', 'creationdate': '2024-05-28T21:46:12-07:00', 'moddate': '2024-09-30T10:31:38-06:00', 'trapped': '/False', 'source': '/content/hai_ai-index-report-2024-smaller2.pdf', 'total_pages': 502, 'page': 63, 'page_label': '64'}, page_content='64\\nArtificial Intelligence\\nIndex Report 2024Chapter 1 PreviewTable of Contents\\n930 3,288 160,018 4,324,883 6,405,653 1,319,586\\n12,389,056\\n78,352,034\\n3,931,897\\n191,400,000\\nTransformer\\nBERT-Large\\nRoBERTa Large\\nGPT-3 175B (davinci)\\nMegatron-Turing NLG 530B\\nLaMDA\\nPaLM (540B)\\nGPT-4\\nLlama 2 70B\\nGemini Ultra\\n2017 2018 2019 2020 2021 2022 2023\\n0\\n50M\\n100M\\n150M\\n200MTraining cost (in U.S. dollars)\\nEstimated training cost of select AI models, 2017–23\\nSource: Epoch, 2023 | Chart: 2024 AI Index report\\nGemini Ultra\\nFalcon 180B\\nStarCoder\\nGPT-4\\nLLaMA-65B\\nLlama 2 70B\\nBLOOM-176B\\nPaLI\\nImagen\\nFlamingo\\nPaLM (540B)\\nT0-XXL\\nHyperCLOVA\\nMeta Pseudo Labels\\nSwitch\\nGPT-3 175B (davinci)\\nAlphaStar\\nMegatron-BERT\\nRoBERTa Large\\nSciBERT\\nBERT-Large\\nBigGAN-deep 512×512\\nBig Transformer for Back-Translation\\nIMPALA\\nJFT\\nTransformer\\nXception\\nGNMT\\n2016 2017 2018 2019 2020 2021 2022 2023\\n100\\n1000\\n10K\\n100K\\n1M\\n10M\\n100M\\nPublication date\\nTraining cost (in U.S. dollars - log scale)\\nEstimated training cost of select AI models, 2016–23\\nSource: Epoch, 2023 | Chart: 2024 AI Index report\\n1.3 Frontier AI Research\\nChapter 1: Research and DevelopmentArtificial Intelligence\\nIndex Report 2024\\nFigure 1.3.21\\nFigure 1.3.22\\nFigure 1.3.22 visualizes the training cost of all AI models for which the AI Index has estimates. As the figure shows, \\nmodel training costs have sharply increased over time.')"
            ]
          },
          "metadata": {},
          "execution_count": 6
        }
      ]
    },
    {
      "cell_type": "code",
      "source": [
        "import getpass\n",
        "import os\n",
        "\n",
        "if \"GOOGLE_API_KEY\" not in os.environ:\n",
        "    os.environ[\"GOOGLE_API_KEY\"] = getpass.getpass(\"Enter your Google AI API key: \")"
      ],
      "metadata": {
        "colab": {
          "base_uri": "https://localhost:8080/"
        },
        "id": "NlkZfqBX7FGo",
        "outputId": "cc374ade-7269-461e-8343-51531587d257"
      },
      "execution_count": null,
      "outputs": [
        {
          "name": "stdout",
          "output_type": "stream",
          "text": [
            "Enter your Google AI API key: ··········\n"
          ]
        }
      ]
    },
    {
      "cell_type": "code",
      "source": [
        "llm = ChatGoogleGenerativeAI(\n",
        "    model=\"gemini-2.0-flash-lite\",\n",
        "    temperature=0.2,\n",
        "    max_tokens= None,\n",
        "    timeout=None\n",
        ")"
      ],
      "metadata": {
        "id": "Lew3b19k7HB3"
      },
      "execution_count": null,
      "outputs": []
    },
    {
      "cell_type": "code",
      "source": [
        "llm.invoke('What is a car?')"
      ],
      "metadata": {
        "colab": {
          "base_uri": "https://localhost:8080/"
        },
        "collapsed": true,
        "id": "6CCXuftw7MVW",
        "outputId": "9dd30ea4-6f30-439a-c554-51e02602a6ff"
      },
      "execution_count": null,
      "outputs": [
        {
          "output_type": "execute_result",
          "data": {
            "text/plain": [
              "AIMessage(content=\"A car, also known as an automobile or motorcar, is a **wheeled motor vehicle used for transportation**. Here's a breakdown of what that means:\\n\\n*   **Wheeled:** It has wheels to roll on the ground.\\n*   **Motor vehicle:** It's powered by an engine, typically an internal combustion engine (burning gasoline or diesel) or an electric motor.\\n*   **Used for transportation:** Its primary purpose is to move people and/or goods from one place to another.\\n\\n**Key features and characteristics of a car:**\\n\\n*   **Enclosed body:** Usually has a roof, doors, and windows to protect occupants from the elements.\\n*   **Seating:** Designed to carry a limited number of passengers (typically 2-8).\\n*   **Controls:** Includes a steering wheel, pedals (accelerator, brake), and other controls for the driver to operate the vehicle.\\n*   **Engine:** Provides the power to move the car.\\n*   **Transmission:** Transfers power from the engine to the wheels.\\n*   **Wheels and tires:** Allow the car to roll on the road.\\n*   **Suspension:** Absorbs shocks and vibrations from the road.\\n*   **Brakes:** Used to slow down or stop the car.\\n*   **Lights:** Headlights, taillights, and other lights for visibility.\\n*   **Safety features:** Seatbelts, airbags, and other features to protect occupants in a crash.\\n\\n**Types of cars:**\\n\\nThere are many different types of cars, including:\\n\\n*   **Sedans:** Typically have four doors and a separate trunk.\\n*   **SUVs (Sport Utility Vehicles):** Often have a higher ride height, more cargo space, and can be designed for off-road use.\\n*   **Hatchbacks:** Have a rear door that opens upwards, combining the trunk and rear window.\\n*   **Coupes:** Typically have two doors.\\n*   **Trucks:** Designed for carrying cargo and often have a bed in the back.\\n*   **Convertibles:** Have a retractable roof.\\n*   **Electric Vehicles (EVs):** Powered by electric motors and batteries.\\n*   **Hybrid Vehicles:** Combine a gasoline engine with an electric motor.\\n\\nCars are a significant part of modern society, used for personal transportation, commuting, and various other purposes. They have a major impact on the economy, environment, and infrastructure.\", additional_kwargs={}, response_metadata={'prompt_feedback': {'block_reason': 0, 'safety_ratings': []}, 'finish_reason': 'STOP', 'model_name': 'gemini-2.0-flash-lite', 'safety_ratings': []}, id='run-5085cf41-bcdf-420d-9fa8-fe6561a56f71-0', usage_metadata={'input_tokens': 5, 'output_tokens': 512, 'total_tokens': 517, 'input_token_details': {'cache_read': 0}})"
            ]
          },
          "metadata": {},
          "execution_count": 9
        }
      ]
    },
    {
      "cell_type": "code",
      "source": [
        "import getpass\n",
        "import os\n",
        "\n",
        "if not os.getenv(\"NOMIC_API_KEY\"):\n",
        "    os.environ[\"NOMIC_API_KEY\"] = getpass.getpass(\"Enter your Nomic API key: \")"
      ],
      "metadata": {
        "colab": {
          "base_uri": "https://localhost:8080/"
        },
        "id": "ih-qa3wO7POz",
        "outputId": "e8e8347e-7a29-470a-d5e6-c5e0e3067607"
      },
      "execution_count": null,
      "outputs": [
        {
          "name": "stdout",
          "output_type": "stream",
          "text": [
            "Enter your Nomic API key: ··········\n"
          ]
        }
      ]
    },
    {
      "cell_type": "code",
      "source": [
        "embeddings = NomicEmbeddings(\n",
        "    model=\"nomic-embed-text-v1.5\")"
      ],
      "metadata": {
        "id": "8SomA0y87u0v"
      },
      "execution_count": null,
      "outputs": []
    },
    {
      "cell_type": "code",
      "source": [
        "vector_store = Chroma.from_documents(docs, embeddings)"
      ],
      "metadata": {
        "id": "8owHfjlV7pOk"
      },
      "execution_count": null,
      "outputs": []
    },
    {
      "cell_type": "code",
      "source": [
        "retriver=vector_store.as_retriever()"
      ],
      "metadata": {
        "id": "54InOHLS8LS9"
      },
      "execution_count": null,
      "outputs": []
    },
    {
      "cell_type": "code",
      "source": [
        "from langchain.prompts import PromptTemplate"
      ],
      "metadata": {
        "id": "mQ3jf1E89WBr"
      },
      "execution_count": null,
      "outputs": []
    },
    {
      "cell_type": "code",
      "source": [
        "prompt_template = \"\"\"Use the following pieces of context to answer the user's question in very detail.\n",
        "   If you don't know the answer, just say that you don't know, don't try to make up an answer.\n",
        "\n",
        "   {context}\n",
        "\n",
        "   Question: {question}\n",
        "   \"\"\"\n",
        "PROMPT = PromptTemplate(\n",
        "       template=prompt_template, input_variables=[\"context\", \"question\"]\n",
        "   )"
      ],
      "metadata": {
        "id": "h3nXG5229XoU"
      },
      "execution_count": null,
      "outputs": []
    },
    {
      "cell_type": "code",
      "source": [
        "qa = RetrievalQA.from_chain_type(\n",
        "       llm=llm,\n",
        "       chain_type=\"stuff\",\n",
        "       retriever=retriver,\n",
        "       verbose=True,\n",
        "       chain_type_kwargs={\"prompt\": PROMPT}  # Add the prompt here\n",
        "   )"
      ],
      "metadata": {
        "id": "3T9dX8I99eYx"
      },
      "execution_count": null,
      "outputs": []
    },
    {
      "cell_type": "code",
      "source": [
        "qa.invoke(\"What is this pdf about?\")"
      ],
      "metadata": {
        "colab": {
          "base_uri": "https://localhost:8080/"
        },
        "id": "Rs4sJ7l_8QVw",
        "outputId": "2f79bd45-b0be-40f0-a5a1-08f5d63b8bf4"
      },
      "execution_count": null,
      "outputs": [
        {
          "output_type": "stream",
          "name": "stdout",
          "text": [
            "\n",
            "\n",
            "\u001b[1m> Entering new RetrievalQA chain...\u001b[0m\n",
            "\n",
            "\u001b[1m> Finished chain.\u001b[0m\n"
          ]
        },
        {
          "output_type": "execute_result",
          "data": {
            "text/plain": [
              "{'query': 'What is this pdf about?',\n",
              " 'result': 'This PDF is the Artificial Intelligence Index Report 2024. It covers various aspects of AI, including its impact on the economy, AI skills penetration, and the use of AI in elections, specifically focusing on AI-based disinformation. It also includes information on TF-IDF, a statistical measure used to evaluate how representative a word (in this case, a skill) is to a selected entity.'}"
            ]
          },
          "metadata": {},
          "execution_count": 23
        }
      ]
    },
    {
      "cell_type": "markdown",
      "source": [
        "## Eval dataset creation"
      ],
      "metadata": {
        "id": "xAoyeR-OBPtU"
      }
    },
    {
      "cell_type": "code",
      "source": [
        "from langchain.evaluation.qa import QAGenerateChain\n",
        "from langchain_google_genai import ChatGoogleGenerativeAI\n",
        "\n",
        "# Predefined LLM and Docs (assumed to be declared earlier)\n",
        "# llm = ChatGoogleGenerativeAI(model=\"gemini-pro\", google_api_key=\"your-key\")\n",
        "# docs = [...]  # chunks from the AI Index Report PDF\n",
        "\n",
        "# Updated examples relevant to the AI Index 2024\n",
        "examples = [\n",
        "    {'qa_pairs': {\n",
        "        \"query\": \"How much did Google's Gemini Ultra cost to train?\",\n",
        "        \"answer\": \"According to the AI Index, Google's Gemini Ultra cost $191 million in compute to train.\"\n",
        "    }},\n",
        "    {'qa_pairs': {\n",
        "        \"query\": \"Which country produced the most notable AI models in 2023?\",\n",
        "        \"answer\": \"The United States produced 61 notable AI models in 2023, more than any other country.\"\n",
        "    }},\n",
        "    {'qa_pairs': {\n",
        "        \"query\": \"What percentage of new foundation models in 2023 were open-source?\",\n",
        "        \"answer\": \"65.7% of foundation models released in 2023 were open-source.\"\n",
        "    }},\n",
        "    {'qa_pairs': {\n",
        "        \"query\": \"What was the increase in AI-related U.S. regulations in 2023 compared to 2016?\",\n",
        "        \"answer\": \"There were 25 AI-related regulations in 2023, up from just one in 2016.\"\n",
        "    }}\n",
        "]\n",
        "\n",
        "# Initialize QA generation chain\n",
        "example_gen_chain = QAGenerateChain.from_llm(llm)\n",
        "\n",
        "# Generate new QA examples from a few documents\n",
        "new_examples = example_gen_chain.apply_and_parse(\n",
        "    [{\"doc\": t} for t in docs[:75]] # make it around 80 according to the pdf size\n",
        ")\n",
        "\n",
        "# Format and append the generated QA pairs\n",
        "formatted_examples = [{'qa_pairs': ex} for ex in new_examples]\n",
        "examples.extend(formatted_examples)\n",
        "\n",
        "# Display all examples\n",
        "print(examples)\n"
      ],
      "metadata": {
        "colab": {
          "base_uri": "https://localhost:8080/"
        },
        "id": "Fiokp5cx8T1k",
        "outputId": "a02e9bb5-0d0c-462e-ba12-24bc9e808d75"
      },
      "execution_count": null,
      "outputs": [
        {
          "output_type": "stream",
          "name": "stderr",
          "text": [
            "/usr/local/lib/python3.11/dist-packages/langchain/chains/llm.py:369: UserWarning: The apply_and_parse method is deprecated, instead pass an output parser directly to LLMChain.\n",
            "  warnings.warn(\n"
          ]
        },
        {
          "output_type": "stream",
          "name": "stdout",
          "text": [
            "[{'qa_pairs': {'query': \"How much did Google's Gemini Ultra cost to train?\", 'answer': \"According to the AI Index, Google's Gemini Ultra cost $191 million in compute to train.\"}}, {'qa_pairs': {'query': 'Which country produced the most notable AI models in 2023?', 'answer': 'The United States produced 61 notable AI models in 2023, more than any other country.'}}, {'qa_pairs': {'query': 'What percentage of new foundation models in 2023 were open-source?', 'answer': '65.7% of foundation models released in 2023 were open-source.'}}, {'qa_pairs': {'query': 'What was the increase in AI-related U.S. regulations in 2023 compared to 2016?', 'answer': 'There were 25 AI-related regulations in 2023, up from just one in 2016.'}}, {'qa_pairs': {'qa_pairs': {'query': 'According to the metadata, what is the title of the document and what year was it published?', 'answer': 'The document is titled \"Artificial Intelligence Index Report 2024\" and was published in 2024.'}}}, {'qa_pairs': {'qa_pairs': {'query': 'What is the primary mission of the AI Index report?', 'answer': 'The primary mission of the AI Index report is to provide unbiased, rigorously vetted, broadly sourced data in order for policymakers, researchers, executives, journalists, and the general public to develop a more thorough and nuanced understanding of the complex field of AI.'}}}, {'qa_pairs': {'qa_pairs': {'query': 'According to the document, which news sources have accumulated hundreds of academic citations and been referenced by high-level policymakers?', 'answer': 'Times, Bloomberg, and The Guardian.'}}}, {'qa_pairs': {'qa_pairs': {'query': 'According to the \"Artificial Intelligence Index Report 2024,\" what were some of the limitations of AI technology as of the report\\'s publication?', 'answer': 'According to the report, current AI technology still has significant problems, including the inability to reliably deal with facts, perform complex reasoning, or explain its conclusions.'}}}, {'qa_pairs': {'qa_pairs': {'query': 'According to the AI Index report, what is one of the key areas that the index tracks?', 'answer': 'The AI Index tracks technical progress in AI capabilities, the community and investments driving AI development and deployment, public opinion on current and potential future impacts, and policy measures taken to stimulate AI innovation while managing its risks and challenges.'}}}, {'qa_pairs': {'qa_pairs': {'query': 'According to the document, what is the name of the benchmark that includes MMLU and is used to evaluate language models?', 'answer': 'The Holistic Evaluation of Language Models (HELM) benchmark.'}}}, {'qa_pairs': {'qa_pairs': {'query': 'According to the AI Index Report 2024, what was the trend in global private investment in AI, and what was the trend in investment in generative AI?', 'answer': 'According to the report, global private investment in AI decreased for the second consecutive year, while investment in generative AI skyrocketed.'}}}, {'qa_pairs': {'qa_pairs': {'query': 'According to the AI Index Report 2024, which country is the leading source of top AI models, and how many notable AI models originated from institutions in that country in 2023?', 'answer': 'The United States is the leading source of top AI models, with 61 notable AI models originating from U.S.-based institutions in 2023.'}}}, {'qa_pairs': {'qa_pairs': {'query': 'According to the document, what is one of the primary ways leading developers, such as OpenAI, Google, and Anthropic, test their AI models?', 'answer': 'They primarily test their models against different responsible AI benchmarks.'}}}, {'qa_pairs': {'qa_pairs': {'query': 'According to the document, what percentage of Americans reported feeling more concerned than excited about AI in 2022, and what was the percentage in 2023?', 'answer': 'According to the document, 37% of Americans reported feeling more concerned than excited about AI in 2022, and 52% reported feeling this way in 2023.'}}}, {'qa_pairs': {'qa_pairs': {'query': 'According to the document, who is the Research Manager and Editor in Chief?', 'answer': 'Nestor Maslej'}}}, {'qa_pairs': {'qa_pairs': {'query': 'According to the document, what is the name of the institute where the AI Index is an independent initiative?', 'answer': 'The Stanford Institute for Human-Centered Artificial Intelligence (HAI).'}}}, {'qa_pairs': {'qa_pairs': {'query': 'According to the document, what AI tools were used to assist in the writing process of the AI Index report, and what was their primary function?', 'answer': 'The authors used ChatGPT and Claude to help tighten and copy edit initial drafts.'}}}, {'qa_pairs': {'qa_pairs': {'query': 'According to the provided metadata, what is the total number of pages in the \"Artificial Intelligence Index Report 2024\"?', 'answer': 'The total number of pages is 502.'}}}, {'qa_pairs': {'qa_pairs': {'query': 'According to the provided document, who are the contributors listed in Chapter 3: Responsible AI?', 'answer': 'The contributors listed in Chapter 3: Responsible AI are Jack Clark, Loredana Fattorini, Amelia Hardy, Katrina Ligett, Nestor Maslej, Vanessa Parli, Ray Perrault, Anka Reuel, and Andrew Shi.'}}}, {'qa_pairs': {'qa_pairs': {'query': 'According to the document, which chapter is listed, and what is the subject of that chapter?', 'answer': 'Chapter 5: Science and Medicine'}}}, {'qa_pairs': {'qa_pairs': {'query': 'Which individuals contributed to both Chapter 6: Education and Chapter 8: Diversity of the Artificial Intelligence Index Report 2024?', 'answer': 'Betsy Bizot, Kirsten Feddersen, Matt Hazenbush, Nestor Maslej, Vanessa Parli, Ray Perrault, Svetlana Tikhonenko, Hannah Weissman, and Stuart Zweben.'}}}, {'qa_pairs': {'qa_pairs': {'query': 'According to the provided document, which organization is associated with the individuals Rishi Bommasani and Percy Liang?', 'answer': 'Center for Research on Foundation Models'}}}, {'qa_pairs': {'qa_pairs': {'query': 'According to the document, who helped maintain the AI Index website?', 'answer': 'Joe Hinman and Nabarun Mukherjee helped maintain the AI Index website.'}}}, {'qa_pairs': {'qa_pairs': {'query': 'According to the Table of Contents, what chapter discusses \"Responsible AI\"?', 'answer': 'Chapter 3'}}}, {'qa_pairs': {'qa_pairs': {'query': 'According to the AI Index Report 2024, how many notable machine learning models were produced by industry in 2023?', 'answer': 'In 2023, industry produced 51 notable machine learning models.'}}}, {'qa_pairs': {'qa_pairs': {'query': 'According to the document, what percentage of global AI patent origins did China account for in 2022, and how did this compare to the United States?', 'answer': 'In 2022, China led global AI patent origins with 61.1%, significantly outpacing the United States, which accounted for 20.9% of AI patent origins.'}}}, {'qa_pairs': {'qa_pairs': {'query': 'According to the document, on what types of tasks has AI surpassed human performance?', 'answer': 'According to the document, AI has surpassed human performance on several benchmarks, including some in image classification, visual reasoning, and English understanding.'}}}, {'qa_pairs': {'qa_pairs': {'query': 'According to the document, what two entities are collaborating to generate specialized data for image segmentation and 3D reconstruction?', 'answer': 'SegmentAnything and Skoltech'}}}, {'qa_pairs': {'qa_pairs': {'query': 'According to the Artificial Intelligence Index Report 2024, what is one area of more technical research being conducted?', 'answer': 'More technical research is being conducted in agentic AI, specifically in creating AI agents capable of autonomous operation in specific environments.'}}}, {'qa_pairs': {'qa_pairs': {'query': 'According to the AI Index Report 2024, what is a major challenge in evaluating the responsibility of Large Language Models (LLMs)?', 'answer': 'The report highlights a significant lack of standardization in responsible AI reporting, with leading developers using different benchmarks, making it difficult to compare the risks and limitations of top AI models.'}}}, {'qa_pairs': {'qa_pairs': {'query': 'According to the document, what are the top AI-related concerns for companies, as highlighted by responsible AI?', 'answer': 'The top AI-related concerns for companies include privacy, data security, and reliability.'}}}, {'qa_pairs': {'qa_pairs': {'query': 'According to the AI Index Report 2024, what is a key challenge in analyzing extreme AI risks?', 'answer': 'According to the AI Index Report 2024, a key challenge is distinguishing between scientifically founded claims and those that should inform policymaking, especially given the theoretical nature of existential threats compared to the tangible nature of short-term risks.'}}}, {'qa_pairs': {'qa_pairs': {'query': 'According to the document, what was the approximate percentage increase in AI private investment in the United States from 2022 to 2023?', 'answer': '22.1%'}}}, {'qa_pairs': {'qa_pairs': {'query': 'According to the document, what percentage of organizations used AI in at least one business unit or function in 2023, and how does this compare to the percentage in 2022 and 2017?', 'answer': 'In 2023, 55% of organizations used AI in at least one business unit or function, up from 50% in 2022 and 20% in 2017.'}}}, {'qa_pairs': {'qa_pairs': {'query': 'According to the Artificial Intelligence Index Report 2024, what percentage of all new industrial robot installations did collaborative robots represent in 2022?', 'answer': '9.9%'}}}, {'qa_pairs': {'qa_pairs': {'query': 'According to the Artificial Intelligence Index Report 2024, what was the accuracy rate of GPT-4 Medprompt on the MedQA benchmark in 2023, and how much of an increase did this represent from the highest score in 2022?', 'answer': 'In 2023, GPT-4 Medprompt reached an accuracy rate of 90.2% on the MedQA benchmark, marking a 22.6 percentage point increase from the highest score in 2022.'}}}, {'qa_pairs': {'qa_pairs': {'query': 'According to the Artificial Intelligence Index Report 2024, what percentage of new AI PhD graduates took jobs in industry in 2022, and how does this compare to the percentage in 2011?', 'answer': 'In 2022, 70.7% of new AI PhD graduates joined industry. In 2011, the percentage was 40.9%.'}}}, {'qa_pairs': {'qa_pairs': {'query': 'According to the document, what trend is observed regarding the number of international CS graduates in the United States and Canada in 2022 compared to 2021?', 'answer': 'The document states that CS education in the United States and Canada becomes less international, with proportionally fewer international CS bachelor’s, master’s, and PhDs graduating in 2022 than in 2021.'}}}, {'qa_pairs': {'qa_pairs': {'query': \"According to the Artificial Intelligence Index Report 2024, which two countries lead Europe in the production of new informatics, CS, CE, and IT graduates at all degree levels (bachelor's, master's, and PhD)?\", 'answer': 'The United Kingdom and Germany.'}}}, {'qa_pairs': {'qa_pairs': {'query': 'According to the document, what was the total number of AI-related regulations in the United States in 2023, and what was the percentage increase from the previous year?', 'answer': 'In 2023, there were 25 AI-related regulations, and the total number of AI-related regulations grew by 56.3% from the previous year.'}}}, {'qa_pairs': {'qa_pairs': {'query': 'According to the document, how many U.S. regulatory agencies issued AI regulations in 2023, and how does this compare to the number in 2022?', 'answer': 'The document states that 21 U.S. regulatory agencies issued AI regulations in 2023, which is an increase from 17 in 2022.'}}}, {'qa_pairs': {'qa_pairs': {'query': \"According to the Artificial Intelligence Index Report 2024, what is the trend regarding ethnic diversity among U.S. and Canadian CS bachelor's degree graduates?\", 'answer': 'The proportion of Asian CS bachelor’s degree graduates has increased by 19.8 percentage points since 2011, and the proportion of Hispanic CS bachelor’s degree graduates has grown by 5.2 percentage points.'}}}, {'qa_pairs': {'qa_pairs': {'query': 'According to the Ipsos survey, what percentage of people believe AI will dramatically affect their lives in the next three to five years, and how does this compare to the previous year?', 'answer': 'According to the Ipsos survey, 66% of people believe AI will dramatically affect their lives in the next three to five years, which is an increase from 60% the previous year.'}}}, {'qa_pairs': {'qa_pairs': {'query': 'According to the document, what percentage of Gen Z respondents believe AI will improve entertainment options, and how does this compare to the percentage of Baby Boomers who share the same belief?', 'answer': 'According to the document, 59% of Gen Z respondents believe AI will improve entertainment options, while only 40% of Baby Boomers share this belief.'}}}, {'qa_pairs': {'qa_pairs': {'query': 'According to the provided metadata, what is the total number of pages in the \"Artificial Intelligence Index Report 2024\"?', 'answer': '502'}}}, {'qa_pairs': {'qa_pairs': {'query': 'According to the table of contents, what are the main topics covered in Chapter 1 of the Artificial Intelligence Index Report 2024?', 'answer': 'Chapter 1 covers Research and Development, with subtopics including Publications, Patents, Frontier AI Research, AI Conferences, and Open-Source AI Software.'}}}, {'qa_pairs': {'qa_pairs': {'query': 'According to the document, what is the primary focus of Chapter 1?', 'answer': 'Chapter 1 studies trends in AI research and development.'}}}, {'qa_pairs': {'qa_pairs': {'query': 'According to the AI Index Report 2024, how many notable machine learning models were produced by industry in 2023?', 'answer': 'In 2023, industry produced 51 notable machine learning models.'}}}, {'qa_pairs': {'qa_pairs': {'query': \"According to the document, what percentage of global AI patent origins did China account for in 2022, and how does this compare to the United States' share?\", 'answer': 'In 2022, China accounted for 61.1% of global AI patent origins, significantly outpacing the United States, which accounted for 20.9%.'}}}, {'qa_pairs': {'qa_pairs': {'query': 'According to the document, what was the approximate total number of AI publications in 2010?', 'answer': 'Approximately 88,000.'}}}, {'qa_pairs': {'qa_pairs': {'query': 'According to the provided metadata, what is the total number of pages in the document?', 'answer': 'The document has a total of 502 pages.'}}}, {'qa_pairs': {'qa_pairs': {'query': 'According to Figure 1.1.2, in 2022, approximately how many AI journal articles were there, and how many conference submissions were there?', 'answer': 'In 2022, there were roughly 230,000 AI journal articles and roughly 42,000 conference submissions.'}}}, {'qa_pairs': {'qa_pairs': {'query': 'According to Figure 1.1.3 in the 2024 AI Index Report, which field of study saw the most rapid growth in AI publications since 2015?', 'answer': 'Machine learning publications saw the most rapid growth, increasing nearly sevenfold since 2015.'}}}, {'qa_pairs': {'qa_pairs': {'query': 'According to the 2024 AI Index Report, what percentage of AI publications came from the education sector in 2022?', 'answer': '81.1%'}}}, {'qa_pairs': {'qa_pairs': {'query': 'According to the provided document, what is the title of the report and what year is it for?', 'answer': 'The title of the report is \"Artificial Intelligence Index Report\" and it is for the year 2024.'}}}, {'qa_pairs': {'qa_pairs': {'query': 'According to Figure 1.1.6 in the 2024 AI Index Report, what was the approximate percentage increase in AI journal publications between 2021 and 2022?', 'answer': '4.5%'}}}, {'qa_pairs': {'qa_pairs': {'query': 'According to Figure 1.1.7, what was the approximate number of AI conference publications in 2021?', 'answer': 'According to Figure 1.1.7, the number of AI conference publications in 2021 was 31,629.'}}}, {'qa_pairs': {'qa_pairs': {'query': 'According to the document, what is the most recent year for which AI patent data is accessible?', 'answer': '2022'}}}, {'qa_pairs': {'qa_pairs': {'query': 'According to Figure 1.2.2 in the 2024 AI Index report, what was the approximate number of ungranted AI patents in 2022?', 'answer': 'According to Figure 1.2.2, the number of ungranted AI patents in 2022 was 128,952.'}}}, {'qa_pairs': {'qa_pairs': {'query': 'According to the document, what is the title of Chapter 1 and what is the title of the report?', 'answer': 'Chapter 1 is titled \"Research and Development\" and the report is titled \"Artificial Intelligence Index Report 2024\".'}}}, {'qa_pairs': {'qa_pairs': {'query': \"According to Figure 1.2.4, what percentage of the world's granted AI patents originated from East Asia and the Pacific as of 2022?\", 'answer': '75.2%'}}}, {'qa_pairs': {'qa_pairs': {'query': \"According to the 2024 AI Index Report, what percentage of the world's granted AI patents originated from China, and what percentage originated from the United States, disaggregated by geographic area?\", 'answer': \"According to Figure 1.2.5 in the report, 61.1% of the world's granted AI patents originated from China, and 20.9% originated from the United States.\"}}}, {'qa_pairs': {'qa_pairs': {'query': 'According to the document, which country had the most granted AI patents per 100,000 inhabitants in 2022?', 'answer': 'South Korea'}}}, {'qa_pairs': {'qa_pairs': {'query': 'According to the document, what is the title of Chapter 1?', 'answer': 'Chapter 1: Research and Development'}}}, {'qa_pairs': {'qa_pairs': {'query': 'According to the document, what are the two types of frontier AI models that the AI Index studies trends in?', 'answer': 'The AI Index studies trends in \"notable models\" and foundation models.'}}}, {'qa_pairs': {'qa_pairs': {'query': \"According to the document, what is Epoch AI's primary focus?\", 'answer': 'Epoch AI is dedicated to studying and predicting the evolution of advanced AI.'}}}, {'qa_pairs': {'qa_pairs': {'query': 'According to the 2024 AI Index Report, in what year did industry surpass academia in the release of machine learning models?', 'answer': '2014'}}}, {'qa_pairs': {'qa_pairs': {'query': 'According to the AI Index Report 2024, which country produced the most notable machine learning models in 2023, and how many did they produce?', 'answer': 'The United States produced the most notable machine learning models in 2023, with 61 models.'}}}, {'qa_pairs': {'qa_pairs': {'query': 'According to Figure 1.3.2 and the provided source, how many notable machine learning models were associated with the United States between 2003 and 2023?', 'answer': '61'}}}, {'qa_pairs': {'qa_pairs': {'query': 'According to the document, what is the title of the report and what year is it for?', 'answer': 'The title of the report is \"Artificial Intelligence Index Report\" and it is for the year 2024.'}}}, {'qa_pairs': {'qa_pairs': {'query': 'According to the document, what are parameters in machine learning models and what determines the number of parameters a model has?', 'answer': 'According to the document, parameters in machine learning models are numerical values learned during training that determine how a model interprets input data and makes predictions. Models trained on more data will usually have more parameters than those trained on less data.'}}}, {'qa_pairs': {'qa_pairs': {'query': 'According to the document, what is the source of the data presented in the chart showing the number of parameters of machine learning models by sector from 2003-2023?', 'answer': 'Epoch, 2023'}}}, {'qa_pairs': {'qa_pairs': {'query': 'According to the document, what directly influences the amount of compute needed for machine learning models?', 'answer': 'The complexity of the model and the size of the training dataset directly influence the amount of compute needed.'}}}, {'qa_pairs': {'qa_pairs': {'query': 'According to the document, what does \"FLOP\" stand for, and what is its significance in relation to computational power and AI models?', 'answer': 'According to the document, \"FLOP\" stands for \"floating-point operation.\" It is a single arithmetic operation involving floating-point numbers. The number of FLOPs a processor or computer can perform per second is an indicator of its computational power. An AI model with a higher FLOP rate reflects its requirement for more computational resources during training.'}}}, {'qa_pairs': {'qa_pairs': {'query': 'According to Figure 1.3.7 in the 2024 AI Index Report, what was the approximate training compute required for the original Transformer model?', 'answer': 'The original Transformer, released in 2017, required around 7,400 petaFLOPs for training.'}}}, {'qa_pairs': {'qa_pairs': {'query': 'According to the document, by what time frame might computer scientists exhaust low-quality language data?', 'answer': 'According to the document, computer scientists could exhaust low-quality language data within two decades.'}}}, {'qa_pairs': {'qa_pairs': {'query': 'According to the document, by what time frame is it projected that image data will be used up?', 'answer': 'The document states that image data is projected to be used up by the late 2030s to mid-2040s.'}}}, {'qa_pairs': {'qa_pairs': {'query': 'According to the document, what is the source of the projections of ML data exhaustion by stock type, and what type of data is provided?', 'answer': 'The source is Epoch, 2023, and the data provided includes the median and 90% CI dates.'}}}, {'qa_pairs': {'qa_pairs': {'query': 'According to the document, what does Figure 1.3.9 demonstrate?', 'answer': 'Figure 1.3.9 demonstrates the process of model collapse in a variational autoencoder (VAE) model.'}}}]\n"
          ]
        }
      ]
    },
    {
      "cell_type": "code",
      "source": [
        "# 🔧 Fix double-wrapped QA examples\n",
        "for i in range(len(examples)):\n",
        "    if 'qa_pairs' in examples[i] and isinstance(examples[i]['qa_pairs'], dict):\n",
        "        inner = examples[i]['qa_pairs']\n",
        "        if 'qa_pairs' in inner and isinstance(inner['qa_pairs'], dict):\n",
        "            examples[i]['qa_pairs'] = inner['qa_pairs']\n"
      ],
      "metadata": {
        "id": "8sIjBpybNt6x"
      },
      "execution_count": null,
      "outputs": []
    },
    {
      "cell_type": "code",
      "source": [
        "examples\n"
      ],
      "metadata": {
        "colab": {
          "base_uri": "https://localhost:8080/"
        },
        "id": "Y2cEo9FfAl46",
        "outputId": "2bdca775-bb00-4889-c024-beefcc9e668d"
      },
      "execution_count": null,
      "outputs": [
        {
          "output_type": "execute_result",
          "data": {
            "text/plain": [
              "[{'qa_pairs': {'query': \"How much did Google's Gemini Ultra cost to train?\",\n",
              "   'answer': \"According to the AI Index, Google's Gemini Ultra cost $191 million in compute to train.\"}},\n",
              " {'qa_pairs': {'query': 'Which country produced the most notable AI models in 2023?',\n",
              "   'answer': 'The United States produced 61 notable AI models in 2023, more than any other country.'}},\n",
              " {'qa_pairs': {'query': 'What percentage of new foundation models in 2023 were open-source?',\n",
              "   'answer': '65.7% of foundation models released in 2023 were open-source.'}},\n",
              " {'qa_pairs': {'query': 'What was the increase in AI-related U.S. regulations in 2023 compared to 2016?',\n",
              "   'answer': 'There were 25 AI-related regulations in 2023, up from just one in 2016.'}},\n",
              " {'qa_pairs': {'query': 'According to the metadata, what is the title of the document and what year was it published?',\n",
              "   'answer': 'The document is titled \"Artificial Intelligence Index Report 2024\" and was published in 2024.'}},\n",
              " {'qa_pairs': {'query': 'What is the primary mission of the AI Index report?',\n",
              "   'answer': 'The primary mission of the AI Index report is to provide unbiased, rigorously vetted, broadly sourced data in order for policymakers, researchers, executives, journalists, and the general public to develop a more thorough and nuanced understanding of the complex field of AI.'}},\n",
              " {'qa_pairs': {'query': 'According to the document, which news sources have accumulated hundreds of academic citations and been referenced by high-level policymakers?',\n",
              "   'answer': 'Times, Bloomberg, and The Guardian.'}},\n",
              " {'qa_pairs': {'query': 'According to the \"Artificial Intelligence Index Report 2024,\" what were some of the limitations of AI technology as of the report\\'s publication?',\n",
              "   'answer': 'According to the report, current AI technology still has significant problems, including the inability to reliably deal with facts, perform complex reasoning, or explain its conclusions.'}},\n",
              " {'qa_pairs': {'query': 'According to the AI Index report, what is one of the key areas that the index tracks?',\n",
              "   'answer': 'The AI Index tracks technical progress in AI capabilities, the community and investments driving AI development and deployment, public opinion on current and potential future impacts, and policy measures taken to stimulate AI innovation while managing its risks and challenges.'}},\n",
              " {'qa_pairs': {'query': 'According to the document, what is the name of the benchmark that includes MMLU and is used to evaluate language models?',\n",
              "   'answer': 'The Holistic Evaluation of Language Models (HELM) benchmark.'}},\n",
              " {'qa_pairs': {'query': 'According to the AI Index Report 2024, what was the trend in global private investment in AI, and what was the trend in investment in generative AI?',\n",
              "   'answer': 'According to the report, global private investment in AI decreased for the second consecutive year, while investment in generative AI skyrocketed.'}},\n",
              " {'qa_pairs': {'query': 'According to the AI Index Report 2024, which country is the leading source of top AI models, and how many notable AI models originated from institutions in that country in 2023?',\n",
              "   'answer': 'The United States is the leading source of top AI models, with 61 notable AI models originating from U.S.-based institutions in 2023.'}},\n",
              " {'qa_pairs': {'query': 'According to the document, what is one of the primary ways leading developers, such as OpenAI, Google, and Anthropic, test their AI models?',\n",
              "   'answer': 'They primarily test their models against different responsible AI benchmarks.'}},\n",
              " {'qa_pairs': {'query': 'According to the document, what percentage of Americans reported feeling more concerned than excited about AI in 2022, and what was the percentage in 2023?',\n",
              "   'answer': 'According to the document, 37% of Americans reported feeling more concerned than excited about AI in 2022, and 52% reported feeling this way in 2023.'}},\n",
              " {'qa_pairs': {'query': 'According to the document, who is the Research Manager and Editor in Chief?',\n",
              "   'answer': 'Nestor Maslej'}},\n",
              " {'qa_pairs': {'query': 'According to the document, what is the name of the institute where the AI Index is an independent initiative?',\n",
              "   'answer': 'The Stanford Institute for Human-Centered Artificial Intelligence (HAI).'}},\n",
              " {'qa_pairs': {'query': 'According to the document, what AI tools were used to assist in the writing process of the AI Index report, and what was their primary function?',\n",
              "   'answer': 'The authors used ChatGPT and Claude to help tighten and copy edit initial drafts.'}},\n",
              " {'qa_pairs': {'query': 'According to the provided metadata, what is the total number of pages in the \"Artificial Intelligence Index Report 2024\"?',\n",
              "   'answer': 'The total number of pages is 502.'}},\n",
              " {'qa_pairs': {'query': 'According to the provided document, who are the contributors listed in Chapter 3: Responsible AI?',\n",
              "   'answer': 'The contributors listed in Chapter 3: Responsible AI are Jack Clark, Loredana Fattorini, Amelia Hardy, Katrina Ligett, Nestor Maslej, Vanessa Parli, Ray Perrault, Anka Reuel, and Andrew Shi.'}},\n",
              " {'qa_pairs': {'query': 'According to the document, which chapter is listed, and what is the subject of that chapter?',\n",
              "   'answer': 'Chapter 5: Science and Medicine'}},\n",
              " {'qa_pairs': {'query': 'Which individuals contributed to both Chapter 6: Education and Chapter 8: Diversity of the Artificial Intelligence Index Report 2024?',\n",
              "   'answer': 'Betsy Bizot, Kirsten Feddersen, Matt Hazenbush, Nestor Maslej, Vanessa Parli, Ray Perrault, Svetlana Tikhonenko, Hannah Weissman, and Stuart Zweben.'}},\n",
              " {'qa_pairs': {'query': 'According to the provided document, which organization is associated with the individuals Rishi Bommasani and Percy Liang?',\n",
              "   'answer': 'Center for Research on Foundation Models'}},\n",
              " {'qa_pairs': {'query': 'According to the document, who helped maintain the AI Index website?',\n",
              "   'answer': 'Joe Hinman and Nabarun Mukherjee helped maintain the AI Index website.'}},\n",
              " {'qa_pairs': {'query': 'According to the Table of Contents, what chapter discusses \"Responsible AI\"?',\n",
              "   'answer': 'Chapter 3'}},\n",
              " {'qa_pairs': {'query': 'According to the AI Index Report 2024, how many notable machine learning models were produced by industry in 2023?',\n",
              "   'answer': 'In 2023, industry produced 51 notable machine learning models.'}},\n",
              " {'qa_pairs': {'query': 'According to the document, what percentage of global AI patent origins did China account for in 2022, and how did this compare to the United States?',\n",
              "   'answer': 'In 2022, China led global AI patent origins with 61.1%, significantly outpacing the United States, which accounted for 20.9% of AI patent origins.'}},\n",
              " {'qa_pairs': {'query': 'According to the document, on what types of tasks has AI surpassed human performance?',\n",
              "   'answer': 'According to the document, AI has surpassed human performance on several benchmarks, including some in image classification, visual reasoning, and English understanding.'}},\n",
              " {'qa_pairs': {'query': 'According to the document, what two entities are collaborating to generate specialized data for image segmentation and 3D reconstruction?',\n",
              "   'answer': 'SegmentAnything and Skoltech'}},\n",
              " {'qa_pairs': {'query': 'According to the Artificial Intelligence Index Report 2024, what is one area of more technical research being conducted?',\n",
              "   'answer': 'More technical research is being conducted in agentic AI, specifically in creating AI agents capable of autonomous operation in specific environments.'}},\n",
              " {'qa_pairs': {'query': 'According to the AI Index Report 2024, what is a major challenge in evaluating the responsibility of Large Language Models (LLMs)?',\n",
              "   'answer': 'The report highlights a significant lack of standardization in responsible AI reporting, with leading developers using different benchmarks, making it difficult to compare the risks and limitations of top AI models.'}},\n",
              " {'qa_pairs': {'query': 'According to the document, what are the top AI-related concerns for companies, as highlighted by responsible AI?',\n",
              "   'answer': 'The top AI-related concerns for companies include privacy, data security, and reliability.'}},\n",
              " {'qa_pairs': {'query': 'According to the AI Index Report 2024, what is a key challenge in analyzing extreme AI risks?',\n",
              "   'answer': 'According to the AI Index Report 2024, a key challenge is distinguishing between scientifically founded claims and those that should inform policymaking, especially given the theoretical nature of existential threats compared to the tangible nature of short-term risks.'}},\n",
              " {'qa_pairs': {'query': 'According to the document, what was the approximate percentage increase in AI private investment in the United States from 2022 to 2023?',\n",
              "   'answer': '22.1%'}},\n",
              " {'qa_pairs': {'query': 'According to the document, what percentage of organizations used AI in at least one business unit or function in 2023, and how does this compare to the percentage in 2022 and 2017?',\n",
              "   'answer': 'In 2023, 55% of organizations used AI in at least one business unit or function, up from 50% in 2022 and 20% in 2017.'}},\n",
              " {'qa_pairs': {'query': 'According to the Artificial Intelligence Index Report 2024, what percentage of all new industrial robot installations did collaborative robots represent in 2022?',\n",
              "   'answer': '9.9%'}},\n",
              " {'qa_pairs': {'query': 'According to the Artificial Intelligence Index Report 2024, what was the accuracy rate of GPT-4 Medprompt on the MedQA benchmark in 2023, and how much of an increase did this represent from the highest score in 2022?',\n",
              "   'answer': 'In 2023, GPT-4 Medprompt reached an accuracy rate of 90.2% on the MedQA benchmark, marking a 22.6 percentage point increase from the highest score in 2022.'}},\n",
              " {'qa_pairs': {'query': 'According to the Artificial Intelligence Index Report 2024, what percentage of new AI PhD graduates took jobs in industry in 2022, and how does this compare to the percentage in 2011?',\n",
              "   'answer': 'In 2022, 70.7% of new AI PhD graduates joined industry. In 2011, the percentage was 40.9%.'}},\n",
              " {'qa_pairs': {'query': 'According to the document, what trend is observed regarding the number of international CS graduates in the United States and Canada in 2022 compared to 2021?',\n",
              "   'answer': 'The document states that CS education in the United States and Canada becomes less international, with proportionally fewer international CS bachelor’s, master’s, and PhDs graduating in 2022 than in 2021.'}},\n",
              " {'qa_pairs': {'query': \"According to the Artificial Intelligence Index Report 2024, which two countries lead Europe in the production of new informatics, CS, CE, and IT graduates at all degree levels (bachelor's, master's, and PhD)?\",\n",
              "   'answer': 'The United Kingdom and Germany.'}},\n",
              " {'qa_pairs': {'query': 'According to the document, what was the total number of AI-related regulations in the United States in 2023, and what was the percentage increase from the previous year?',\n",
              "   'answer': 'In 2023, there were 25 AI-related regulations, and the total number of AI-related regulations grew by 56.3% from the previous year.'}},\n",
              " {'qa_pairs': {'query': 'According to the document, how many U.S. regulatory agencies issued AI regulations in 2023, and how does this compare to the number in 2022?',\n",
              "   'answer': 'The document states that 21 U.S. regulatory agencies issued AI regulations in 2023, which is an increase from 17 in 2022.'}},\n",
              " {'qa_pairs': {'query': \"According to the Artificial Intelligence Index Report 2024, what is the trend regarding ethnic diversity among U.S. and Canadian CS bachelor's degree graduates?\",\n",
              "   'answer': 'The proportion of Asian CS bachelor’s degree graduates has increased by 19.8 percentage points since 2011, and the proportion of Hispanic CS bachelor’s degree graduates has grown by 5.2 percentage points.'}},\n",
              " {'qa_pairs': {'query': 'According to the Ipsos survey, what percentage of people believe AI will dramatically affect their lives in the next three to five years, and how does this compare to the previous year?',\n",
              "   'answer': 'According to the Ipsos survey, 66% of people believe AI will dramatically affect their lives in the next three to five years, which is an increase from 60% the previous year.'}},\n",
              " {'qa_pairs': {'query': 'According to the document, what percentage of Gen Z respondents believe AI will improve entertainment options, and how does this compare to the percentage of Baby Boomers who share the same belief?',\n",
              "   'answer': 'According to the document, 59% of Gen Z respondents believe AI will improve entertainment options, while only 40% of Baby Boomers share this belief.'}},\n",
              " {'qa_pairs': {'query': 'According to the provided metadata, what is the total number of pages in the \"Artificial Intelligence Index Report 2024\"?',\n",
              "   'answer': '502'}},\n",
              " {'qa_pairs': {'query': 'According to the table of contents, what are the main topics covered in Chapter 1 of the Artificial Intelligence Index Report 2024?',\n",
              "   'answer': 'Chapter 1 covers Research and Development, with subtopics including Publications, Patents, Frontier AI Research, AI Conferences, and Open-Source AI Software.'}},\n",
              " {'qa_pairs': {'query': 'According to the document, what is the primary focus of Chapter 1?',\n",
              "   'answer': 'Chapter 1 studies trends in AI research and development.'}},\n",
              " {'qa_pairs': {'query': 'According to the AI Index Report 2024, how many notable machine learning models were produced by industry in 2023?',\n",
              "   'answer': 'In 2023, industry produced 51 notable machine learning models.'}},\n",
              " {'qa_pairs': {'query': \"According to the document, what percentage of global AI patent origins did China account for in 2022, and how does this compare to the United States' share?\",\n",
              "   'answer': 'In 2022, China accounted for 61.1% of global AI patent origins, significantly outpacing the United States, which accounted for 20.9%.'}},\n",
              " {'qa_pairs': {'query': 'According to the document, what was the approximate total number of AI publications in 2010?',\n",
              "   'answer': 'Approximately 88,000.'}},\n",
              " {'qa_pairs': {'query': 'According to the provided metadata, what is the total number of pages in the document?',\n",
              "   'answer': 'The document has a total of 502 pages.'}},\n",
              " {'qa_pairs': {'query': 'According to Figure 1.1.2, in 2022, approximately how many AI journal articles were there, and how many conference submissions were there?',\n",
              "   'answer': 'In 2022, there were roughly 230,000 AI journal articles and roughly 42,000 conference submissions.'}},\n",
              " {'qa_pairs': {'query': 'According to Figure 1.1.3 in the 2024 AI Index Report, which field of study saw the most rapid growth in AI publications since 2015?',\n",
              "   'answer': 'Machine learning publications saw the most rapid growth, increasing nearly sevenfold since 2015.'}},\n",
              " {'qa_pairs': {'query': 'According to the 2024 AI Index Report, what percentage of AI publications came from the education sector in 2022?',\n",
              "   'answer': '81.1%'}},\n",
              " {'qa_pairs': {'query': 'According to the provided document, what is the title of the report and what year is it for?',\n",
              "   'answer': 'The title of the report is \"Artificial Intelligence Index Report\" and it is for the year 2024.'}},\n",
              " {'qa_pairs': {'query': 'According to Figure 1.1.6 in the 2024 AI Index Report, what was the approximate percentage increase in AI journal publications between 2021 and 2022?',\n",
              "   'answer': '4.5%'}},\n",
              " {'qa_pairs': {'query': 'According to Figure 1.1.7, what was the approximate number of AI conference publications in 2021?',\n",
              "   'answer': 'According to Figure 1.1.7, the number of AI conference publications in 2021 was 31,629.'}},\n",
              " {'qa_pairs': {'query': 'According to the document, what is the most recent year for which AI patent data is accessible?',\n",
              "   'answer': '2022'}},\n",
              " {'qa_pairs': {'query': 'According to Figure 1.2.2 in the 2024 AI Index report, what was the approximate number of ungranted AI patents in 2022?',\n",
              "   'answer': 'According to Figure 1.2.2, the number of ungranted AI patents in 2022 was 128,952.'}},\n",
              " {'qa_pairs': {'query': 'According to the document, what is the title of Chapter 1 and what is the title of the report?',\n",
              "   'answer': 'Chapter 1 is titled \"Research and Development\" and the report is titled \"Artificial Intelligence Index Report 2024\".'}},\n",
              " {'qa_pairs': {'query': \"According to Figure 1.2.4, what percentage of the world's granted AI patents originated from East Asia and the Pacific as of 2022?\",\n",
              "   'answer': '75.2%'}},\n",
              " {'qa_pairs': {'query': \"According to the 2024 AI Index Report, what percentage of the world's granted AI patents originated from China, and what percentage originated from the United States, disaggregated by geographic area?\",\n",
              "   'answer': \"According to Figure 1.2.5 in the report, 61.1% of the world's granted AI patents originated from China, and 20.9% originated from the United States.\"}},\n",
              " {'qa_pairs': {'query': 'According to the document, which country had the most granted AI patents per 100,000 inhabitants in 2022?',\n",
              "   'answer': 'South Korea'}},\n",
              " {'qa_pairs': {'query': 'According to the document, what is the title of Chapter 1?',\n",
              "   'answer': 'Chapter 1: Research and Development'}},\n",
              " {'qa_pairs': {'query': 'According to the document, what are the two types of frontier AI models that the AI Index studies trends in?',\n",
              "   'answer': 'The AI Index studies trends in \"notable models\" and foundation models.'}},\n",
              " {'qa_pairs': {'query': \"According to the document, what is Epoch AI's primary focus?\",\n",
              "   'answer': 'Epoch AI is dedicated to studying and predicting the evolution of advanced AI.'}},\n",
              " {'qa_pairs': {'query': 'According to the 2024 AI Index Report, in what year did industry surpass academia in the release of machine learning models?',\n",
              "   'answer': '2014'}},\n",
              " {'qa_pairs': {'query': 'According to the AI Index Report 2024, which country produced the most notable machine learning models in 2023, and how many did they produce?',\n",
              "   'answer': 'The United States produced the most notable machine learning models in 2023, with 61 models.'}},\n",
              " {'qa_pairs': {'query': 'According to Figure 1.3.2 and the provided source, how many notable machine learning models were associated with the United States between 2003 and 2023?',\n",
              "   'answer': '61'}},\n",
              " {'qa_pairs': {'query': 'According to the document, what is the title of the report and what year is it for?',\n",
              "   'answer': 'The title of the report is \"Artificial Intelligence Index Report\" and it is for the year 2024.'}},\n",
              " {'qa_pairs': {'query': 'According to the document, what are parameters in machine learning models and what determines the number of parameters a model has?',\n",
              "   'answer': 'According to the document, parameters in machine learning models are numerical values learned during training that determine how a model interprets input data and makes predictions. Models trained on more data will usually have more parameters than those trained on less data.'}},\n",
              " {'qa_pairs': {'query': 'According to the document, what is the source of the data presented in the chart showing the number of parameters of machine learning models by sector from 2003-2023?',\n",
              "   'answer': 'Epoch, 2023'}},\n",
              " {'qa_pairs': {'query': 'According to the document, what directly influences the amount of compute needed for machine learning models?',\n",
              "   'answer': 'The complexity of the model and the size of the training dataset directly influence the amount of compute needed.'}},\n",
              " {'qa_pairs': {'query': 'According to the document, what does \"FLOP\" stand for, and what is its significance in relation to computational power and AI models?',\n",
              "   'answer': 'According to the document, \"FLOP\" stands for \"floating-point operation.\" It is a single arithmetic operation involving floating-point numbers. The number of FLOPs a processor or computer can perform per second is an indicator of its computational power. An AI model with a higher FLOP rate reflects its requirement for more computational resources during training.'}},\n",
              " {'qa_pairs': {'query': 'According to Figure 1.3.7 in the 2024 AI Index Report, what was the approximate training compute required for the original Transformer model?',\n",
              "   'answer': 'The original Transformer, released in 2017, required around 7,400 petaFLOPs for training.'}},\n",
              " {'qa_pairs': {'query': 'According to the document, by what time frame might computer scientists exhaust low-quality language data?',\n",
              "   'answer': 'According to the document, computer scientists could exhaust low-quality language data within two decades.'}},\n",
              " {'qa_pairs': {'query': 'According to the document, by what time frame is it projected that image data will be used up?',\n",
              "   'answer': 'The document states that image data is projected to be used up by the late 2030s to mid-2040s.'}},\n",
              " {'qa_pairs': {'query': 'According to the document, what is the source of the projections of ML data exhaustion by stock type, and what type of data is provided?',\n",
              "   'answer': 'The source is Epoch, 2023, and the data provided includes the median and 90% CI dates.'}},\n",
              " {'qa_pairs': {'query': 'According to the document, what does Figure 1.3.9 demonstrate?',\n",
              "   'answer': 'Figure 1.3.9 demonstrates the process of model collapse in a variational autoencoder (VAE) model.'}}]"
            ]
          },
          "metadata": {},
          "execution_count": 35
        }
      ]
    },
    {
      "cell_type": "markdown",
      "source": [
        "## Manual Testing"
      ],
      "metadata": {
        "id": "lG5d_qLQN7-Y"
      }
    },
    {
      "cell_type": "code",
      "source": [
        "import langchain\n",
        "langchain.debug = True\n",
        "\n",
        "# Run inference or evaluation for a specific QA pair\n",
        "query = examples[6]['qa_pairs'][\"query\"]\n",
        "expected_answer = examples[6]['qa_pairs'][\"answer\"]\n",
        "\n",
        "# Assuming you have a QA chain or LLM interface\n",
        "# Example: qa = ChatGoogleGenerativeAI(...) or a LangChain chain\n",
        "\n",
        "response = qa.run(query)\n",
        "\n",
        "# Print comparison\n",
        "print(f\"Query: {query}\")\n",
        "print(f\"Expected Answer: {expected_answer}\")\n",
        "print(f\"Model Response: {response}\")\n"
      ],
      "metadata": {
        "colab": {
          "base_uri": "https://localhost:8080/"
        },
        "id": "g_IRWJzxAsdF",
        "outputId": "42633c7d-ac37-4c1a-e30d-b93df83d71ed"
      },
      "execution_count": null,
      "outputs": [
        {
          "output_type": "stream",
          "name": "stdout",
          "text": [
            "\u001b[32;1m\u001b[1;3m[chain/start]\u001b[0m \u001b[1m[chain:RetrievalQA] Entering Chain run with input:\n",
            "\u001b[0m{\n",
            "  \"query\": \"According to the document, which news sources have accumulated hundreds of academic citations and been referenced by high-level policymakers?\"\n",
            "}\n",
            "\u001b[32;1m\u001b[1;3m[chain/start]\u001b[0m \u001b[1m[chain:RetrievalQA > chain:StuffDocumentsChain] Entering Chain run with input:\n",
            "\u001b[0m[inputs]\n",
            "\u001b[32;1m\u001b[1;3m[chain/start]\u001b[0m \u001b[1m[chain:RetrievalQA > chain:StuffDocumentsChain > chain:LLMChain] Entering Chain run with input:\n",
            "\u001b[0m{\n",
            "  \"question\": \"According to the document, which news sources have accumulated hundreds of academic citations and been referenced by high-level policymakers?\",\n",
            "  \"context\": \"Times, Bloomberg, and The Guardian, have amassed hundreds of academic citations, and been referenced \\nby high-level policymakers in the United States, the United Kingdom, and the European Union, among \\nother places. This year’s edition surpasses all previous ones in size, scale, and scope, reflecting the growing \\nsignificance that AI is coming to hold in all of our lives.\\n\\n386\\nArtificial Intelligence\\nIndex Report 2024Chapter 7 PreviewTable of Contents\\n7 .2 AI and Policymaking\\nChapter 7: Policy and GovernanceArtificial Intelligence\\nIndex Report 2024\\n0\\n1–55\\n56–120\\n121–250\\n251–410\\nNumber of mentions of AI in legislative proceedings by country, 2023\\nSource: AI Index, 2024 | Chart: 2024 AI Index report\\nNo available data\\nIn 2023, the United Kingdom led in AI mentions within \\nits legislative proceedings (405), followed by the \\nUnited States (240) and Australia (227) (Figure 7.2.13). \\nOut of 80 countries analyzed, 48 mentioned AI at least \\nonce. Moreover, AI discussions reached legislative \\nplatforms in at least one country from every continent \\nin 2023, underscoring the truly global reach of AI \\npolicy discourse.\\nWhen legislative mentions are aggregated from \\n2016 to 2023, a somewhat similar trend emerges \\n(Figure 7.2.14). The United Kingdom is first, with 1,490 \\nmentions, followed by Spain (886) and the United \\nStates (868). \\nFigure 7.2.13\\n\\n1.  A\\n snapshot of the Ecosystems Graph was taken in \\nearly January 2024. \\n 2.  A\\nuthors of foundation models are attributed to \\ncountries based on their affiliation credited on \\nthe paper/technical documentation associated \\nwith the model. For international organizations, \\nauthors are attributed to the country where the \\norganization is headquartered, unless a more \\nspecific location is indicated.\\n 3 .  All o f the landmark publications are \\naggregated within time periods (e.g., monthly \\nor yearly) with the national contributions \\nadded up to determine what each country’s \\ncontribution to landmark AI research was \\nduring each time period.\\n 4.  T\\nhe contributions of different countries are \\ncompared over time to identify any trends.\\nEpoch Notable Models \\nAnalysis\\nThe AI forecasting research group Epoch maintains \\na dataset of landmark AI and ML models, along with \\naccompanying information about their creators and \\npublications, such as the list of their (co)authors, \\nnumber of citations, type of AI task accomplished, \\nand amount of compute used in training.\\nThe nationalities of the authors of these papers have \\nimportant implications for geopolitical AI forecasting. \\nAs various research institutions and technology \\ncompanies start producing advanced ML models, the \\nglobal distribution of future AI development may shift \\nor concentrate in certain places, which in turn affects \\nthe geopolitical landscape because AI is expected \\nto become a crucial component of economic and\\n\\nArtificial Intelligence\\nIndex Report 2024\\n24\\nChapter 7: Policy and Governance \\n1. The number of AI regulations in the United States sharply increases. The number of AI-related \\nregulations has risen significantly in the past year and over the last five years. In 2023, there were 25 AI-related \\nregulations, up from just one in 2016. Last year alone, the total number of AI-related regulations grew by 56.3%.\\n2. The United States and the European Union advance landmark AI policy action. In 2023, \\npolicymakers on both sides of the Atlantic put forth substantial proposals for advancing AI regulation The \\nEuropean Union reached a deal on the terms of the AI Act, a landmark piece of legislation enacted in 2024. \\nMeanwhile, President Biden signed an Executive Order on AI, the most notable AI policy initiative in the United \\nStates that year.\\n3. AI captures U.S. policymaker attention. The year 2023 witnessed a remarkable increase in AI-related \\nlegislation at the federal level, with 181 bills proposed, more than double the 88 proposed in 2022. \\n4. Policymakers across the globe cannot stop talking about AI. Mentions of AI in legislative \\nproceedings across the globe have nearly doubled, rising from 1,247 in 2022 to 2,175 in 2023. AI was mentioned in \\nthe legislative proceedings of 49 countries in 2023. Moreover, at least one country from every continent discussed \\nAI in 2023, underscoring the truly global reach of AI policy discourse.\"\n",
            "}\n",
            "\u001b[32;1m\u001b[1;3m[llm/start]\u001b[0m \u001b[1m[chain:RetrievalQA > chain:StuffDocumentsChain > chain:LLMChain > llm:ChatGoogleGenerativeAI] Entering LLM run with input:\n",
            "\u001b[0m{\n",
            "  \"prompts\": [\n",
            "    \"Human: Use the following pieces of context to answer the user's question in very detail. \\n   If you don't know the answer, just say that you don't know, don't try to make up an answer.\\n   \\n   Times, Bloomberg, and The Guardian, have amassed hundreds of academic citations, and been referenced \\nby high-level policymakers in the United States, the United Kingdom, and the European Union, among \\nother places. This year’s edition surpasses all previous ones in size, scale, and scope, reflecting the growing \\nsignificance that AI is coming to hold in all of our lives.\\n\\n386\\nArtificial Intelligence\\nIndex Report 2024Chapter 7 PreviewTable of Contents\\n7 .2 AI and Policymaking\\nChapter 7: Policy and GovernanceArtificial Intelligence\\nIndex Report 2024\\n0\\n1–55\\n56–120\\n121–250\\n251–410\\nNumber of mentions of AI in legislative proceedings by country, 2023\\nSource: AI Index, 2024 | Chart: 2024 AI Index report\\nNo available data\\nIn 2023, the United Kingdom led in AI mentions within \\nits legislative proceedings (405), followed by the \\nUnited States (240) and Australia (227) (Figure 7.2.13). \\nOut of 80 countries analyzed, 48 mentioned AI at least \\nonce. Moreover, AI discussions reached legislative \\nplatforms in at least one country from every continent \\nin 2023, underscoring the truly global reach of AI \\npolicy discourse.\\nWhen legislative mentions are aggregated from \\n2016 to 2023, a somewhat similar trend emerges \\n(Figure 7.2.14). The United Kingdom is first, with 1,490 \\nmentions, followed by Spain (886) and the United \\nStates (868). \\nFigure 7.2.13\\n\\n1.  A\\n snapshot of the Ecosystems Graph was taken in \\nearly January 2024. \\n 2.  A\\nuthors of foundation models are attributed to \\ncountries based on their affiliation credited on \\nthe paper/technical documentation associated \\nwith the model. For international organizations, \\nauthors are attributed to the country where the \\norganization is headquartered, unless a more \\nspecific location is indicated.\\n 3 .  All o f the landmark publications are \\naggregated within time periods (e.g., monthly \\nor yearly) with the national contributions \\nadded up to determine what each country’s \\ncontribution to landmark AI research was \\nduring each time period.\\n 4.  T\\nhe contributions of different countries are \\ncompared over time to identify any trends.\\nEpoch Notable Models \\nAnalysis\\nThe AI forecasting research group Epoch maintains \\na dataset of landmark AI and ML models, along with \\naccompanying information about their creators and \\npublications, such as the list of their (co)authors, \\nnumber of citations, type of AI task accomplished, \\nand amount of compute used in training.\\nThe nationalities of the authors of these papers have \\nimportant implications for geopolitical AI forecasting. \\nAs various research institutions and technology \\ncompanies start producing advanced ML models, the \\nglobal distribution of future AI development may shift \\nor concentrate in certain places, which in turn affects \\nthe geopolitical landscape because AI is expected \\nto become a crucial component of economic and\\n\\nArtificial Intelligence\\nIndex Report 2024\\n24\\nChapter 7: Policy and Governance \\n1. The number of AI regulations in the United States sharply increases. The number of AI-related \\nregulations has risen significantly in the past year and over the last five years. In 2023, there were 25 AI-related \\nregulations, up from just one in 2016. Last year alone, the total number of AI-related regulations grew by 56.3%.\\n2. The United States and the European Union advance landmark AI policy action. In 2023, \\npolicymakers on both sides of the Atlantic put forth substantial proposals for advancing AI regulation The \\nEuropean Union reached a deal on the terms of the AI Act, a landmark piece of legislation enacted in 2024. \\nMeanwhile, President Biden signed an Executive Order on AI, the most notable AI policy initiative in the United \\nStates that year.\\n3. AI captures U.S. policymaker attention. The year 2023 witnessed a remarkable increase in AI-related \\nlegislation at the federal level, with 181 bills proposed, more than double the 88 proposed in 2022. \\n4. Policymakers across the globe cannot stop talking about AI. Mentions of AI in legislative \\nproceedings across the globe have nearly doubled, rising from 1,247 in 2022 to 2,175 in 2023. AI was mentioned in \\nthe legislative proceedings of 49 countries in 2023. Moreover, at least one country from every continent discussed \\nAI in 2023, underscoring the truly global reach of AI policy discourse.\\n   \\n   Question: According to the document, which news sources have accumulated hundreds of academic citations and been referenced by high-level policymakers?\"\n",
            "  ]\n",
            "}\n",
            "\u001b[36;1m\u001b[1;3m[llm/end]\u001b[0m \u001b[1m[chain:RetrievalQA > chain:StuffDocumentsChain > chain:LLMChain > llm:ChatGoogleGenerativeAI] [530ms] Exiting LLM run with output:\n",
            "\u001b[0m{\n",
            "  \"generations\": [\n",
            "    [\n",
            "      {\n",
            "        \"text\": \"According to the document, Times, Bloomberg, and The Guardian have amassed hundreds of academic citations and been referenced by high-level policymakers.\",\n",
            "        \"generation_info\": {\n",
            "          \"finish_reason\": \"STOP\",\n",
            "          \"model_name\": \"gemini-2.0-flash-lite\",\n",
            "          \"safety_ratings\": []\n",
            "        },\n",
            "        \"type\": \"ChatGeneration\",\n",
            "        \"message\": {\n",
            "          \"lc\": 1,\n",
            "          \"type\": \"constructor\",\n",
            "          \"id\": [\n",
            "            \"langchain\",\n",
            "            \"schema\",\n",
            "            \"messages\",\n",
            "            \"AIMessage\"\n",
            "          ],\n",
            "          \"kwargs\": {\n",
            "            \"content\": \"According to the document, Times, Bloomberg, and The Guardian have amassed hundreds of academic citations and been referenced by high-level policymakers.\",\n",
            "            \"response_metadata\": {\n",
            "              \"prompt_feedback\": {\n",
            "                \"block_reason\": 0,\n",
            "                \"safety_ratings\": []\n",
            "              },\n",
            "              \"finish_reason\": \"STOP\",\n",
            "              \"model_name\": \"gemini-2.0-flash-lite\",\n",
            "              \"safety_ratings\": []\n",
            "            },\n",
            "            \"type\": \"ai\",\n",
            "            \"id\": \"run-c1e24a84-5b86-4557-aef6-b82050eecdc8-0\",\n",
            "            \"usage_metadata\": {\n",
            "              \"input_tokens\": 1189,\n",
            "              \"output_tokens\": 28,\n",
            "              \"total_tokens\": 1217,\n",
            "              \"input_token_details\": {\n",
            "                \"cache_read\": 0\n",
            "              }\n",
            "            },\n",
            "            \"tool_calls\": [],\n",
            "            \"invalid_tool_calls\": []\n",
            "          }\n",
            "        }\n",
            "      }\n",
            "    ]\n",
            "  ],\n",
            "  \"llm_output\": {\n",
            "    \"prompt_feedback\": {\n",
            "      \"block_reason\": 0,\n",
            "      \"safety_ratings\": []\n",
            "    }\n",
            "  },\n",
            "  \"run\": null,\n",
            "  \"type\": \"LLMResult\"\n",
            "}\n",
            "\u001b[36;1m\u001b[1;3m[chain/end]\u001b[0m \u001b[1m[chain:RetrievalQA > chain:StuffDocumentsChain > chain:LLMChain] [532ms] Exiting Chain run with output:\n",
            "\u001b[0m{\n",
            "  \"text\": \"According to the document, Times, Bloomberg, and The Guardian have amassed hundreds of academic citations and been referenced by high-level policymakers.\"\n",
            "}\n",
            "\u001b[36;1m\u001b[1;3m[chain/end]\u001b[0m \u001b[1m[chain:RetrievalQA > chain:StuffDocumentsChain] [541ms] Exiting Chain run with output:\n",
            "\u001b[0m{\n",
            "  \"output_text\": \"According to the document, Times, Bloomberg, and The Guardian have amassed hundreds of academic citations and been referenced by high-level policymakers.\"\n",
            "}\n",
            "\u001b[36;1m\u001b[1;3m[chain/end]\u001b[0m \u001b[1m[chain:RetrievalQA] [737ms] Exiting Chain run with output:\n",
            "\u001b[0m{\n",
            "  \"result\": \"According to the document, Times, Bloomberg, and The Guardian have amassed hundreds of academic citations and been referenced by high-level policymakers.\"\n",
            "}\n",
            "Query: According to the document, which news sources have accumulated hundreds of academic citations and been referenced by high-level policymakers?\n",
            "Expected Answer: Times, Bloomberg, and The Guardian.\n",
            "Model Response: According to the document, Times, Bloomberg, and The Guardian have amassed hundreds of academic citations and been referenced by high-level policymakers.\n"
          ]
        }
      ]
    },
    {
      "cell_type": "markdown",
      "source": [
        "## Using The Eval Chain(below is the main code)"
      ],
      "metadata": {
        "id": "NYnhnYi0Om04"
      }
    },
    {
      "cell_type": "code",
      "source": [
        "from langchain.evaluation.qa import QAEvalChain\n",
        "#from langchain_openai import ChatOpenAI\n",
        "\n",
        "# Step 1: Clean examples (just in case of double nesting)\n",
        "for i in range(len(examples)):\n",
        "    if 'qa_pairs' in examples[i] and isinstance(examples[i]['qa_pairs'], dict):\n",
        "        inner = examples[i]['qa_pairs']\n",
        "        if 'qa_pairs' in inner and isinstance(inner['qa_pairs'], dict):\n",
        "            examples[i]['qa_pairs'] = inner['qa_pairs']\n",
        "\n",
        "# Step 2: Extract queries for prediction\n",
        "queries = [{'query': ex['qa_pairs']['query']} for ex in examples]\n",
        "\n",
        "# Step 3: Run your QA chain to get model predictions\n",
        "predictions = qa.apply(queries)  # `qa` is your previously defined QA chain\n",
        "\n",
        "# Step 4: Initialize grading LLM (e.g., OpenAI)\n",
        "#llm = ChatOpenAI(temperature=0, model=llm_model)  # e.g., llm_model = \"gpt-4\"\n",
        "\n",
        "# Step 5: Create QA evaluation chain\n",
        "eval_chain = QAEvalChain.from_llm(llm=llm)\n",
        "\n",
        "# Step 5.5: Flatten examples for evaluator\n",
        "flat_examples = [{'query': ex['qa_pairs']['query'], 'answer': ex['qa_pairs']['answer']} for ex in examples]\n",
        "\n",
        "# Step 6: Grade model predictions\n",
        "graded_outputs = eval_chain.evaluate(flat_examples, predictions)\n",
        "\n",
        "\n",
        "# Step 7: Print results nicely\n",
        "for i, eg in enumerate(examples):\n",
        "    print(f\"🧪 Example {i + 1}\")\n",
        "    print(\"❓ Question:         \" + eg['qa_pairs']['query'])\n",
        "    print(\"✅ Real Answer:      \" + eg['qa_pairs']['answer'])\n",
        "    print(\"🤖 Predicted Answer: \" + predictions[i]['result'])\n",
        "    print(\"📊 Grade:            \" + graded_outputs[i]['results'])\n",
        "    print(\"—\" * 80)\n"
      ],
      "metadata": {
        "id": "3BdQDGLGe9r9"
      },
      "execution_count": null,
      "outputs": []
    },
    {
      "cell_type": "markdown",
      "source": [
        "## For limited examples to just check how it works"
      ],
      "metadata": {
        "id": "emAFSrcFfBrV"
      }
    },
    {
      "cell_type": "code",
      "source": [
        "# Limit to a small number of examples for faster testing\n",
        "NUM_EXAMPLES = 5\n",
        "\n",
        "flat_examples = [{'query': ex['qa_pairs']['query'], 'answer': ex['qa_pairs']['answer']} for ex in examples[:NUM_EXAMPLES]]\n",
        "queries = [{'query': ex['query']} for ex in flat_examples]\n",
        "\n",
        "# Run predictions\n",
        "predictions = qa.apply(queries)\n",
        "\n",
        "# Use a fast LLM if needed\n",
        "llm = ChatOpenAI(temperature=0, model=llm_model)  # e.g., \"gpt-3.5-turbo\"\n",
        "\n",
        "# Create evaluation chain\n",
        "eval_chain = QAEvalChain.from_llm(llm=llm)\n",
        "\n",
        "# Evaluate predictions\n",
        "graded_outputs = eval_chain.evaluate(flat_examples, predictions)\n",
        "\n",
        "# Print results\n",
        "for i in range(NUM_EXAMPLES):\n",
        "    print(f\"🧪 Example {i + 1}\")\n",
        "    print(\"❓ Question:         \" + flat_examples[i]['query'])\n",
        "    print(\"✅ Real Answer:      \" + flat_examples[i]['answer'])\n",
        "    print(\"🤖 Predicted Answer: \" + predictions[i]['result'])\n",
        "    print(\"📊 Grade:            \" + graded_outputs[i]['results'])\n",
        "    print(\"—\" * 80)\n"
      ],
      "metadata": {
        "id": "VhB8R1kdgtCs"
      },
      "execution_count": null,
      "outputs": []
    },
    {
      "cell_type": "markdown",
      "source": [
        "## Save and visualize the result"
      ],
      "metadata": {
        "id": "vhw8r0EngxeM"
      }
    },
    {
      "cell_type": "code",
      "source": [
        "import pandas as pd\n",
        "import matplotlib.pyplot as plt\n",
        "\n",
        "# Create a dataframe from results\n",
        "data = []\n",
        "for i in range(NUM_EXAMPLES):\n",
        "    data.append({\n",
        "        \"Question\": flat_examples[i]['query'],\n",
        "        \"Ground Truth\": flat_examples[i]['answer'],\n",
        "        \"Prediction\": predictions[i]['result'],\n",
        "        \"Grade\": graded_outputs[i]['results']\n",
        "    })\n",
        "\n",
        "df = pd.DataFrame(data)\n",
        "\n",
        "# Save to CSV\n",
        "df.to_csv(\"ai_index_eval_results.csv\", index=False)\n",
        "print(\"✅ Results saved to 'ai_index_eval_results.csv'\")\n",
        "\n",
        "# Plot grading summary\n",
        "grade_counts = df['Grade'].value_counts()\n",
        "grade_counts.plot(kind='bar', color=['green', 'red'], edgecolor='black')\n",
        "\n",
        "plt.title(\"QA Evaluation Results\")\n",
        "plt.xlabel(\"Grade\")\n",
        "plt.ylabel(\"Number of Examples\")\n",
        "plt.xticks(rotation=0)\n",
        "plt.grid(axis='y')\n",
        "plt.tight_layout()\n",
        "plt.show()\n"
      ],
      "metadata": {
        "id": "lhNbW5JLgvF1"
      },
      "execution_count": null,
      "outputs": []
    }
  ]
}